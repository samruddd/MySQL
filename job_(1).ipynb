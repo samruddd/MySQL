{
  "nbformat": 4,
  "nbformat_minor": 0,
  "metadata": {
    "colab": {
      "provenance": [],
      "include_colab_link": true
    },
    "kernelspec": {
      "name": "python3",
      "display_name": "Python 3"
    },
    "language_info": {
      "name": "python"
    }
  },
  "cells": [
    {
      "cell_type": "markdown",
      "metadata": {
        "id": "view-in-github",
        "colab_type": "text"
      },
      "source": [
        "<a href=\"https://colab.research.google.com/github/samruddd/MySQL/blob/main/job_(1).ipynb\" target=\"_parent\"><img src=\"https://colab.research.google.com/assets/colab-badge.svg\" alt=\"Open In Colab\"/></a>"
      ]
    },
    {
      "cell_type": "markdown",
      "source": [
        "IMPORTING REQUIRED LIBRARIES"
      ],
      "metadata": {
        "id": "43aYK9QkAuoM"
      }
    },
    {
      "cell_type": "code",
      "execution_count": null,
      "metadata": {
        "id": "q8vDJjKkoUAx"
      },
      "outputs": [],
      "source": [
        "import pandas as pd\n",
        "import numpy as np\n",
        "import matplotlib.pyplot as plt"
      ]
    },
    {
      "cell_type": "markdown",
      "source": [
        "READING THE DATA"
      ],
      "metadata": {
        "id": "dWdEazWz9HOp"
      }
    },
    {
      "cell_type": "code",
      "source": [
        "df = pd.read_csv('/content/11-7-Dataset-Identify Fake Job Posting - 11-7-Dataset-Identify Fake Job Posting.csv')\n",
        "df"
      ],
      "metadata": {
        "colab": {
          "base_uri": "https://localhost:8080/",
          "height": 974
        },
        "id": "MOKWoZsopYci",
        "outputId": "1e53bc13-0525-45cb-8757-b6c4f43d4352"
      },
      "execution_count": null,
      "outputs": [
        {
          "output_type": "execute_result",
          "data": {
            "text/html": [
              "\n",
              "  <div id=\"df-04925e89-5463-445a-8536-f1c99fb30974\">\n",
              "    <div class=\"colab-df-container\">\n",
              "      <div>\n",
              "<style scoped>\n",
              "    .dataframe tbody tr th:only-of-type {\n",
              "        vertical-align: middle;\n",
              "    }\n",
              "\n",
              "    .dataframe tbody tr th {\n",
              "        vertical-align: top;\n",
              "    }\n",
              "\n",
              "    .dataframe thead th {\n",
              "        text-align: right;\n",
              "    }\n",
              "</style>\n",
              "<table border=\"1\" class=\"dataframe\">\n",
              "  <thead>\n",
              "    <tr style=\"text-align: right;\">\n",
              "      <th></th>\n",
              "      <th>job_id</th>\n",
              "      <th>title</th>\n",
              "      <th>location</th>\n",
              "      <th>department</th>\n",
              "      <th>salary_range</th>\n",
              "      <th>company_profile</th>\n",
              "      <th>description</th>\n",
              "      <th>requirements</th>\n",
              "      <th>benefits</th>\n",
              "      <th>telecommuting</th>\n",
              "      <th>has_company_logo</th>\n",
              "      <th>has_questions</th>\n",
              "      <th>employment_type</th>\n",
              "      <th>required_experience</th>\n",
              "      <th>required_education</th>\n",
              "      <th>industry</th>\n",
              "      <th>function</th>\n",
              "      <th>fraudulent</th>\n",
              "    </tr>\n",
              "  </thead>\n",
              "  <tbody>\n",
              "    <tr>\n",
              "      <th>0</th>\n",
              "      <td>1</td>\n",
              "      <td>Marketing Intern</td>\n",
              "      <td>US, NY, New York</td>\n",
              "      <td>Marketing</td>\n",
              "      <td>NaN</td>\n",
              "      <td>We're Food52, and we've created a groundbreaki...</td>\n",
              "      <td>Food52, a fast-growing, James Beard Award-winn...</td>\n",
              "      <td>Experience with content management systems a m...</td>\n",
              "      <td>NaN</td>\n",
              "      <td>0</td>\n",
              "      <td>1</td>\n",
              "      <td>0</td>\n",
              "      <td>Other</td>\n",
              "      <td>Internship</td>\n",
              "      <td>NaN</td>\n",
              "      <td>NaN</td>\n",
              "      <td>Marketing</td>\n",
              "      <td>0</td>\n",
              "    </tr>\n",
              "    <tr>\n",
              "      <th>1</th>\n",
              "      <td>2</td>\n",
              "      <td>Customer Service - Cloud Video Production</td>\n",
              "      <td>NZ, , Auckland</td>\n",
              "      <td>Success</td>\n",
              "      <td>NaN</td>\n",
              "      <td>90 Seconds, the worlds Cloud Video Production ...</td>\n",
              "      <td>Organised - Focused - Vibrant - Awesome!Do you...</td>\n",
              "      <td>What we expect from you:Your key responsibilit...</td>\n",
              "      <td>What you will get from usThrough being part of...</td>\n",
              "      <td>0</td>\n",
              "      <td>1</td>\n",
              "      <td>0</td>\n",
              "      <td>Full-time</td>\n",
              "      <td>Not Applicable</td>\n",
              "      <td>NaN</td>\n",
              "      <td>Marketing and Advertising</td>\n",
              "      <td>Customer Service</td>\n",
              "      <td>0</td>\n",
              "    </tr>\n",
              "    <tr>\n",
              "      <th>2</th>\n",
              "      <td>3</td>\n",
              "      <td>Commissioning Machinery Assistant (CMA)</td>\n",
              "      <td>US, IA, Wever</td>\n",
              "      <td>NaN</td>\n",
              "      <td>NaN</td>\n",
              "      <td>Valor Services provides Workforce Solutions th...</td>\n",
              "      <td>Our client, located in Houston, is actively se...</td>\n",
              "      <td>Implement pre-commissioning and commissioning ...</td>\n",
              "      <td>NaN</td>\n",
              "      <td>0</td>\n",
              "      <td>1</td>\n",
              "      <td>0</td>\n",
              "      <td>NaN</td>\n",
              "      <td>NaN</td>\n",
              "      <td>NaN</td>\n",
              "      <td>NaN</td>\n",
              "      <td>NaN</td>\n",
              "      <td>0</td>\n",
              "    </tr>\n",
              "    <tr>\n",
              "      <th>3</th>\n",
              "      <td>4</td>\n",
              "      <td>Account Executive - Washington DC</td>\n",
              "      <td>US, DC, Washington</td>\n",
              "      <td>Sales</td>\n",
              "      <td>NaN</td>\n",
              "      <td>Our passion for improving quality of life thro...</td>\n",
              "      <td>THE COMPANY: ESRI – Environmental Systems Rese...</td>\n",
              "      <td>EDUCATION: Bachelor’s or Master’s in GIS, busi...</td>\n",
              "      <td>Our culture is anything but corporate—we have ...</td>\n",
              "      <td>0</td>\n",
              "      <td>1</td>\n",
              "      <td>0</td>\n",
              "      <td>Full-time</td>\n",
              "      <td>Mid-Senior level</td>\n",
              "      <td>Bachelor's Degree</td>\n",
              "      <td>Computer Software</td>\n",
              "      <td>Sales</td>\n",
              "      <td>0</td>\n",
              "    </tr>\n",
              "    <tr>\n",
              "      <th>4</th>\n",
              "      <td>5</td>\n",
              "      <td>Bill Review Manager</td>\n",
              "      <td>US, FL, Fort Worth</td>\n",
              "      <td>NaN</td>\n",
              "      <td>NaN</td>\n",
              "      <td>SpotSource Solutions LLC is a Global Human Cap...</td>\n",
              "      <td>JOB TITLE: Itemization Review ManagerLOCATION:...</td>\n",
              "      <td>QUALIFICATIONS:RN license in the State of Texa...</td>\n",
              "      <td>Full Benefits Offered</td>\n",
              "      <td>0</td>\n",
              "      <td>1</td>\n",
              "      <td>1</td>\n",
              "      <td>Full-time</td>\n",
              "      <td>Mid-Senior level</td>\n",
              "      <td>Bachelor's Degree</td>\n",
              "      <td>Hospital &amp; Health Care</td>\n",
              "      <td>Health Care Provider</td>\n",
              "      <td>0</td>\n",
              "    </tr>\n",
              "    <tr>\n",
              "      <th>...</th>\n",
              "      <td>...</td>\n",
              "      <td>...</td>\n",
              "      <td>...</td>\n",
              "      <td>...</td>\n",
              "      <td>...</td>\n",
              "      <td>...</td>\n",
              "      <td>...</td>\n",
              "      <td>...</td>\n",
              "      <td>...</td>\n",
              "      <td>...</td>\n",
              "      <td>...</td>\n",
              "      <td>...</td>\n",
              "      <td>...</td>\n",
              "      <td>...</td>\n",
              "      <td>...</td>\n",
              "      <td>...</td>\n",
              "      <td>...</td>\n",
              "      <td>...</td>\n",
              "    </tr>\n",
              "    <tr>\n",
              "      <th>17875</th>\n",
              "      <td>17876</td>\n",
              "      <td>Account Director - Distribution</td>\n",
              "      <td>CA, ON, Toronto</td>\n",
              "      <td>Sales</td>\n",
              "      <td>NaN</td>\n",
              "      <td>Vend is looking for some awesome new talent to...</td>\n",
              "      <td>Just in case this is the first time you’ve vis...</td>\n",
              "      <td>To ace this role you:Will eat comprehensive St...</td>\n",
              "      <td>What can you expect from us?We have an open cu...</td>\n",
              "      <td>0</td>\n",
              "      <td>1</td>\n",
              "      <td>1</td>\n",
              "      <td>Full-time</td>\n",
              "      <td>Mid-Senior level</td>\n",
              "      <td>NaN</td>\n",
              "      <td>Computer Software</td>\n",
              "      <td>Sales</td>\n",
              "      <td>0</td>\n",
              "    </tr>\n",
              "    <tr>\n",
              "      <th>17876</th>\n",
              "      <td>17877</td>\n",
              "      <td>Payroll Accountant</td>\n",
              "      <td>US, PA, Philadelphia</td>\n",
              "      <td>Accounting</td>\n",
              "      <td>NaN</td>\n",
              "      <td>WebLinc is the e-commerce platform and service...</td>\n",
              "      <td>The Payroll Accountant will focus primarily on...</td>\n",
              "      <td>- B.A. or B.S. in Accounting- Desire to have f...</td>\n",
              "      <td>Health &amp;amp; WellnessMedical planPrescription ...</td>\n",
              "      <td>0</td>\n",
              "      <td>1</td>\n",
              "      <td>1</td>\n",
              "      <td>Full-time</td>\n",
              "      <td>Mid-Senior level</td>\n",
              "      <td>Bachelor's Degree</td>\n",
              "      <td>Internet</td>\n",
              "      <td>Accounting/Auditing</td>\n",
              "      <td>0</td>\n",
              "    </tr>\n",
              "    <tr>\n",
              "      <th>17877</th>\n",
              "      <td>17878</td>\n",
              "      <td>Project Cost Control Staff Engineer - Cost Con...</td>\n",
              "      <td>US, TX, Houston</td>\n",
              "      <td>NaN</td>\n",
              "      <td>NaN</td>\n",
              "      <td>We Provide Full Time Permanent Positions for m...</td>\n",
              "      <td>Experienced Project Cost Control Staff Enginee...</td>\n",
              "      <td>At least 12 years professional experience.Abil...</td>\n",
              "      <td>NaN</td>\n",
              "      <td>0</td>\n",
              "      <td>0</td>\n",
              "      <td>0</td>\n",
              "      <td>Full-time</td>\n",
              "      <td>NaN</td>\n",
              "      <td>NaN</td>\n",
              "      <td>NaN</td>\n",
              "      <td>NaN</td>\n",
              "      <td>0</td>\n",
              "    </tr>\n",
              "    <tr>\n",
              "      <th>17878</th>\n",
              "      <td>17879</td>\n",
              "      <td>Graphic Designer</td>\n",
              "      <td>NG, LA, Lagos</td>\n",
              "      <td>NaN</td>\n",
              "      <td>NaN</td>\n",
              "      <td>NaN</td>\n",
              "      <td>Nemsia Studios is looking for an experienced v...</td>\n",
              "      <td>1. Must be fluent in the latest versions of Co...</td>\n",
              "      <td>Competitive salary (compensation will be based...</td>\n",
              "      <td>0</td>\n",
              "      <td>0</td>\n",
              "      <td>1</td>\n",
              "      <td>Contract</td>\n",
              "      <td>Not Applicable</td>\n",
              "      <td>Professional</td>\n",
              "      <td>Graphic Design</td>\n",
              "      <td>Design</td>\n",
              "      <td>0</td>\n",
              "    </tr>\n",
              "    <tr>\n",
              "      <th>17879</th>\n",
              "      <td>17880</td>\n",
              "      <td>Web Application Developers</td>\n",
              "      <td>NZ, N, Wellington</td>\n",
              "      <td>Engineering</td>\n",
              "      <td>NaN</td>\n",
              "      <td>Vend is looking for some awesome new talent to...</td>\n",
              "      <td>Who are we?Vend is an award winning web based ...</td>\n",
              "      <td>We want to hear from you if:You have an in-dep...</td>\n",
              "      <td>NaN</td>\n",
              "      <td>0</td>\n",
              "      <td>1</td>\n",
              "      <td>1</td>\n",
              "      <td>Full-time</td>\n",
              "      <td>Mid-Senior level</td>\n",
              "      <td>NaN</td>\n",
              "      <td>Computer Software</td>\n",
              "      <td>Engineering</td>\n",
              "      <td>0</td>\n",
              "    </tr>\n",
              "  </tbody>\n",
              "</table>\n",
              "<p>17880 rows × 18 columns</p>\n",
              "</div>\n",
              "      <button class=\"colab-df-convert\" onclick=\"convertToInteractive('df-04925e89-5463-445a-8536-f1c99fb30974')\"\n",
              "              title=\"Convert this dataframe to an interactive table.\"\n",
              "              style=\"display:none;\">\n",
              "        \n",
              "  <svg xmlns=\"http://www.w3.org/2000/svg\" height=\"24px\"viewBox=\"0 0 24 24\"\n",
              "       width=\"24px\">\n",
              "    <path d=\"M0 0h24v24H0V0z\" fill=\"none\"/>\n",
              "    <path d=\"M18.56 5.44l.94 2.06.94-2.06 2.06-.94-2.06-.94-.94-2.06-.94 2.06-2.06.94zm-11 1L8.5 8.5l.94-2.06 2.06-.94-2.06-.94L8.5 2.5l-.94 2.06-2.06.94zm10 10l.94 2.06.94-2.06 2.06-.94-2.06-.94-.94-2.06-.94 2.06-2.06.94z\"/><path d=\"M17.41 7.96l-1.37-1.37c-.4-.4-.92-.59-1.43-.59-.52 0-1.04.2-1.43.59L10.3 9.45l-7.72 7.72c-.78.78-.78 2.05 0 2.83L4 21.41c.39.39.9.59 1.41.59.51 0 1.02-.2 1.41-.59l7.78-7.78 2.81-2.81c.8-.78.8-2.07 0-2.86zM5.41 20L4 18.59l7.72-7.72 1.47 1.35L5.41 20z\"/>\n",
              "  </svg>\n",
              "      </button>\n",
              "      \n",
              "  <style>\n",
              "    .colab-df-container {\n",
              "      display:flex;\n",
              "      flex-wrap:wrap;\n",
              "      gap: 12px;\n",
              "    }\n",
              "\n",
              "    .colab-df-convert {\n",
              "      background-color: #E8F0FE;\n",
              "      border: none;\n",
              "      border-radius: 50%;\n",
              "      cursor: pointer;\n",
              "      display: none;\n",
              "      fill: #1967D2;\n",
              "      height: 32px;\n",
              "      padding: 0 0 0 0;\n",
              "      width: 32px;\n",
              "    }\n",
              "\n",
              "    .colab-df-convert:hover {\n",
              "      background-color: #E2EBFA;\n",
              "      box-shadow: 0px 1px 2px rgba(60, 64, 67, 0.3), 0px 1px 3px 1px rgba(60, 64, 67, 0.15);\n",
              "      fill: #174EA6;\n",
              "    }\n",
              "\n",
              "    [theme=dark] .colab-df-convert {\n",
              "      background-color: #3B4455;\n",
              "      fill: #D2E3FC;\n",
              "    }\n",
              "\n",
              "    [theme=dark] .colab-df-convert:hover {\n",
              "      background-color: #434B5C;\n",
              "      box-shadow: 0px 1px 3px 1px rgba(0, 0, 0, 0.15);\n",
              "      filter: drop-shadow(0px 1px 2px rgba(0, 0, 0, 0.3));\n",
              "      fill: #FFFFFF;\n",
              "    }\n",
              "  </style>\n",
              "\n",
              "      <script>\n",
              "        const buttonEl =\n",
              "          document.querySelector('#df-04925e89-5463-445a-8536-f1c99fb30974 button.colab-df-convert');\n",
              "        buttonEl.style.display =\n",
              "          google.colab.kernel.accessAllowed ? 'block' : 'none';\n",
              "\n",
              "        async function convertToInteractive(key) {\n",
              "          const element = document.querySelector('#df-04925e89-5463-445a-8536-f1c99fb30974');\n",
              "          const dataTable =\n",
              "            await google.colab.kernel.invokeFunction('convertToInteractive',\n",
              "                                                     [key], {});\n",
              "          if (!dataTable) return;\n",
              "\n",
              "          const docLinkHtml = 'Like what you see? Visit the ' +\n",
              "            '<a target=\"_blank\" href=https://colab.research.google.com/notebooks/data_table.ipynb>data table notebook</a>'\n",
              "            + ' to learn more about interactive tables.';\n",
              "          element.innerHTML = '';\n",
              "          dataTable['output_type'] = 'display_data';\n",
              "          await google.colab.output.renderOutput(dataTable, element);\n",
              "          const docLink = document.createElement('div');\n",
              "          docLink.innerHTML = docLinkHtml;\n",
              "          element.appendChild(docLink);\n",
              "        }\n",
              "      </script>\n",
              "    </div>\n",
              "  </div>\n",
              "  "
            ],
            "text/plain": [
              "       job_id  ... fraudulent\n",
              "0           1  ...          0\n",
              "1           2  ...          0\n",
              "2           3  ...          0\n",
              "3           4  ...          0\n",
              "4           5  ...          0\n",
              "...       ...  ...        ...\n",
              "17875   17876  ...          0\n",
              "17876   17877  ...          0\n",
              "17877   17878  ...          0\n",
              "17878   17879  ...          0\n",
              "17879   17880  ...          0\n",
              "\n",
              "[17880 rows x 18 columns]"
            ]
          },
          "metadata": {},
          "execution_count": 3
        }
      ]
    },
    {
      "cell_type": "markdown",
      "source": [
        "GETTING THE FIRST 5 VALUES"
      ],
      "metadata": {
        "id": "kM_E5e8icddi"
      }
    },
    {
      "cell_type": "code",
      "source": [
        "df.head()"
      ],
      "metadata": {
        "colab": {
          "base_uri": "https://localhost:8080/",
          "height": 600
        },
        "id": "15-5GXG3A7uK",
        "outputId": "11ddf38b-1c40-48ea-98bf-743561e63a51"
      },
      "execution_count": null,
      "outputs": [
        {
          "output_type": "execute_result",
          "data": {
            "text/html": [
              "\n",
              "  <div id=\"df-b3a5b624-72db-4cd6-a612-c3c5320bc527\">\n",
              "    <div class=\"colab-df-container\">\n",
              "      <div>\n",
              "<style scoped>\n",
              "    .dataframe tbody tr th:only-of-type {\n",
              "        vertical-align: middle;\n",
              "    }\n",
              "\n",
              "    .dataframe tbody tr th {\n",
              "        vertical-align: top;\n",
              "    }\n",
              "\n",
              "    .dataframe thead th {\n",
              "        text-align: right;\n",
              "    }\n",
              "</style>\n",
              "<table border=\"1\" class=\"dataframe\">\n",
              "  <thead>\n",
              "    <tr style=\"text-align: right;\">\n",
              "      <th></th>\n",
              "      <th>job_id</th>\n",
              "      <th>title</th>\n",
              "      <th>location</th>\n",
              "      <th>department</th>\n",
              "      <th>salary_range</th>\n",
              "      <th>company_profile</th>\n",
              "      <th>description</th>\n",
              "      <th>requirements</th>\n",
              "      <th>benefits</th>\n",
              "      <th>telecommuting</th>\n",
              "      <th>has_company_logo</th>\n",
              "      <th>has_questions</th>\n",
              "      <th>employment_type</th>\n",
              "      <th>required_experience</th>\n",
              "      <th>required_education</th>\n",
              "      <th>industry</th>\n",
              "      <th>function</th>\n",
              "      <th>fraudulent</th>\n",
              "    </tr>\n",
              "  </thead>\n",
              "  <tbody>\n",
              "    <tr>\n",
              "      <th>0</th>\n",
              "      <td>1</td>\n",
              "      <td>Marketing Intern</td>\n",
              "      <td>US, NY, New York</td>\n",
              "      <td>Marketing</td>\n",
              "      <td>NaN</td>\n",
              "      <td>We're Food52, and we've created a groundbreaki...</td>\n",
              "      <td>Food52, a fast-growing, James Beard Award-winn...</td>\n",
              "      <td>Experience with content management systems a m...</td>\n",
              "      <td>NaN</td>\n",
              "      <td>0</td>\n",
              "      <td>1</td>\n",
              "      <td>0</td>\n",
              "      <td>Other</td>\n",
              "      <td>Internship</td>\n",
              "      <td>NaN</td>\n",
              "      <td>NaN</td>\n",
              "      <td>Marketing</td>\n",
              "      <td>0</td>\n",
              "    </tr>\n",
              "    <tr>\n",
              "      <th>1</th>\n",
              "      <td>2</td>\n",
              "      <td>Customer Service - Cloud Video Production</td>\n",
              "      <td>NZ, , Auckland</td>\n",
              "      <td>Success</td>\n",
              "      <td>NaN</td>\n",
              "      <td>90 Seconds, the worlds Cloud Video Production ...</td>\n",
              "      <td>Organised - Focused - Vibrant - Awesome!Do you...</td>\n",
              "      <td>What we expect from you:Your key responsibilit...</td>\n",
              "      <td>What you will get from usThrough being part of...</td>\n",
              "      <td>0</td>\n",
              "      <td>1</td>\n",
              "      <td>0</td>\n",
              "      <td>Full-time</td>\n",
              "      <td>Not Applicable</td>\n",
              "      <td>NaN</td>\n",
              "      <td>Marketing and Advertising</td>\n",
              "      <td>Customer Service</td>\n",
              "      <td>0</td>\n",
              "    </tr>\n",
              "    <tr>\n",
              "      <th>2</th>\n",
              "      <td>3</td>\n",
              "      <td>Commissioning Machinery Assistant (CMA)</td>\n",
              "      <td>US, IA, Wever</td>\n",
              "      <td>NaN</td>\n",
              "      <td>NaN</td>\n",
              "      <td>Valor Services provides Workforce Solutions th...</td>\n",
              "      <td>Our client, located in Houston, is actively se...</td>\n",
              "      <td>Implement pre-commissioning and commissioning ...</td>\n",
              "      <td>NaN</td>\n",
              "      <td>0</td>\n",
              "      <td>1</td>\n",
              "      <td>0</td>\n",
              "      <td>NaN</td>\n",
              "      <td>NaN</td>\n",
              "      <td>NaN</td>\n",
              "      <td>NaN</td>\n",
              "      <td>NaN</td>\n",
              "      <td>0</td>\n",
              "    </tr>\n",
              "    <tr>\n",
              "      <th>3</th>\n",
              "      <td>4</td>\n",
              "      <td>Account Executive - Washington DC</td>\n",
              "      <td>US, DC, Washington</td>\n",
              "      <td>Sales</td>\n",
              "      <td>NaN</td>\n",
              "      <td>Our passion for improving quality of life thro...</td>\n",
              "      <td>THE COMPANY: ESRI – Environmental Systems Rese...</td>\n",
              "      <td>EDUCATION: Bachelor’s or Master’s in GIS, busi...</td>\n",
              "      <td>Our culture is anything but corporate—we have ...</td>\n",
              "      <td>0</td>\n",
              "      <td>1</td>\n",
              "      <td>0</td>\n",
              "      <td>Full-time</td>\n",
              "      <td>Mid-Senior level</td>\n",
              "      <td>Bachelor's Degree</td>\n",
              "      <td>Computer Software</td>\n",
              "      <td>Sales</td>\n",
              "      <td>0</td>\n",
              "    </tr>\n",
              "    <tr>\n",
              "      <th>4</th>\n",
              "      <td>5</td>\n",
              "      <td>Bill Review Manager</td>\n",
              "      <td>US, FL, Fort Worth</td>\n",
              "      <td>NaN</td>\n",
              "      <td>NaN</td>\n",
              "      <td>SpotSource Solutions LLC is a Global Human Cap...</td>\n",
              "      <td>JOB TITLE: Itemization Review ManagerLOCATION:...</td>\n",
              "      <td>QUALIFICATIONS:RN license in the State of Texa...</td>\n",
              "      <td>Full Benefits Offered</td>\n",
              "      <td>0</td>\n",
              "      <td>1</td>\n",
              "      <td>1</td>\n",
              "      <td>Full-time</td>\n",
              "      <td>Mid-Senior level</td>\n",
              "      <td>Bachelor's Degree</td>\n",
              "      <td>Hospital &amp; Health Care</td>\n",
              "      <td>Health Care Provider</td>\n",
              "      <td>0</td>\n",
              "    </tr>\n",
              "  </tbody>\n",
              "</table>\n",
              "</div>\n",
              "      <button class=\"colab-df-convert\" onclick=\"convertToInteractive('df-b3a5b624-72db-4cd6-a612-c3c5320bc527')\"\n",
              "              title=\"Convert this dataframe to an interactive table.\"\n",
              "              style=\"display:none;\">\n",
              "        \n",
              "  <svg xmlns=\"http://www.w3.org/2000/svg\" height=\"24px\"viewBox=\"0 0 24 24\"\n",
              "       width=\"24px\">\n",
              "    <path d=\"M0 0h24v24H0V0z\" fill=\"none\"/>\n",
              "    <path d=\"M18.56 5.44l.94 2.06.94-2.06 2.06-.94-2.06-.94-.94-2.06-.94 2.06-2.06.94zm-11 1L8.5 8.5l.94-2.06 2.06-.94-2.06-.94L8.5 2.5l-.94 2.06-2.06.94zm10 10l.94 2.06.94-2.06 2.06-.94-2.06-.94-.94-2.06-.94 2.06-2.06.94z\"/><path d=\"M17.41 7.96l-1.37-1.37c-.4-.4-.92-.59-1.43-.59-.52 0-1.04.2-1.43.59L10.3 9.45l-7.72 7.72c-.78.78-.78 2.05 0 2.83L4 21.41c.39.39.9.59 1.41.59.51 0 1.02-.2 1.41-.59l7.78-7.78 2.81-2.81c.8-.78.8-2.07 0-2.86zM5.41 20L4 18.59l7.72-7.72 1.47 1.35L5.41 20z\"/>\n",
              "  </svg>\n",
              "      </button>\n",
              "      \n",
              "  <style>\n",
              "    .colab-df-container {\n",
              "      display:flex;\n",
              "      flex-wrap:wrap;\n",
              "      gap: 12px;\n",
              "    }\n",
              "\n",
              "    .colab-df-convert {\n",
              "      background-color: #E8F0FE;\n",
              "      border: none;\n",
              "      border-radius: 50%;\n",
              "      cursor: pointer;\n",
              "      display: none;\n",
              "      fill: #1967D2;\n",
              "      height: 32px;\n",
              "      padding: 0 0 0 0;\n",
              "      width: 32px;\n",
              "    }\n",
              "\n",
              "    .colab-df-convert:hover {\n",
              "      background-color: #E2EBFA;\n",
              "      box-shadow: 0px 1px 2px rgba(60, 64, 67, 0.3), 0px 1px 3px 1px rgba(60, 64, 67, 0.15);\n",
              "      fill: #174EA6;\n",
              "    }\n",
              "\n",
              "    [theme=dark] .colab-df-convert {\n",
              "      background-color: #3B4455;\n",
              "      fill: #D2E3FC;\n",
              "    }\n",
              "\n",
              "    [theme=dark] .colab-df-convert:hover {\n",
              "      background-color: #434B5C;\n",
              "      box-shadow: 0px 1px 3px 1px rgba(0, 0, 0, 0.15);\n",
              "      filter: drop-shadow(0px 1px 2px rgba(0, 0, 0, 0.3));\n",
              "      fill: #FFFFFF;\n",
              "    }\n",
              "  </style>\n",
              "\n",
              "      <script>\n",
              "        const buttonEl =\n",
              "          document.querySelector('#df-b3a5b624-72db-4cd6-a612-c3c5320bc527 button.colab-df-convert');\n",
              "        buttonEl.style.display =\n",
              "          google.colab.kernel.accessAllowed ? 'block' : 'none';\n",
              "\n",
              "        async function convertToInteractive(key) {\n",
              "          const element = document.querySelector('#df-b3a5b624-72db-4cd6-a612-c3c5320bc527');\n",
              "          const dataTable =\n",
              "            await google.colab.kernel.invokeFunction('convertToInteractive',\n",
              "                                                     [key], {});\n",
              "          if (!dataTable) return;\n",
              "\n",
              "          const docLinkHtml = 'Like what you see? Visit the ' +\n",
              "            '<a target=\"_blank\" href=https://colab.research.google.com/notebooks/data_table.ipynb>data table notebook</a>'\n",
              "            + ' to learn more about interactive tables.';\n",
              "          element.innerHTML = '';\n",
              "          dataTable['output_type'] = 'display_data';\n",
              "          await google.colab.output.renderOutput(dataTable, element);\n",
              "          const docLink = document.createElement('div');\n",
              "          docLink.innerHTML = docLinkHtml;\n",
              "          element.appendChild(docLink);\n",
              "        }\n",
              "      </script>\n",
              "    </div>\n",
              "  </div>\n",
              "  "
            ],
            "text/plain": [
              "   job_id  ... fraudulent\n",
              "0       1  ...          0\n",
              "1       2  ...          0\n",
              "2       3  ...          0\n",
              "3       4  ...          0\n",
              "4       5  ...          0\n",
              "\n",
              "[5 rows x 18 columns]"
            ]
          },
          "metadata": {},
          "execution_count": 4
        }
      ]
    },
    {
      "cell_type": "code",
      "source": [
        "df.describe()"
      ],
      "metadata": {
        "colab": {
          "base_uri": "https://localhost:8080/",
          "height": 300
        },
        "id": "ePiYppTeDQWI",
        "outputId": "28152f64-6552-417d-d622-3d47f05d73af"
      },
      "execution_count": null,
      "outputs": [
        {
          "output_type": "execute_result",
          "data": {
            "text/html": [
              "\n",
              "  <div id=\"df-c0d353b5-c90d-4f15-a975-d144da8aae4e\">\n",
              "    <div class=\"colab-df-container\">\n",
              "      <div>\n",
              "<style scoped>\n",
              "    .dataframe tbody tr th:only-of-type {\n",
              "        vertical-align: middle;\n",
              "    }\n",
              "\n",
              "    .dataframe tbody tr th {\n",
              "        vertical-align: top;\n",
              "    }\n",
              "\n",
              "    .dataframe thead th {\n",
              "        text-align: right;\n",
              "    }\n",
              "</style>\n",
              "<table border=\"1\" class=\"dataframe\">\n",
              "  <thead>\n",
              "    <tr style=\"text-align: right;\">\n",
              "      <th></th>\n",
              "      <th>job_id</th>\n",
              "      <th>telecommuting</th>\n",
              "      <th>has_company_logo</th>\n",
              "      <th>has_questions</th>\n",
              "      <th>fraudulent</th>\n",
              "    </tr>\n",
              "  </thead>\n",
              "  <tbody>\n",
              "    <tr>\n",
              "      <th>count</th>\n",
              "      <td>17880.000000</td>\n",
              "      <td>17880.000000</td>\n",
              "      <td>17880.000000</td>\n",
              "      <td>17880.000000</td>\n",
              "      <td>17880.000000</td>\n",
              "    </tr>\n",
              "    <tr>\n",
              "      <th>mean</th>\n",
              "      <td>8940.500000</td>\n",
              "      <td>0.042897</td>\n",
              "      <td>0.795302</td>\n",
              "      <td>0.491723</td>\n",
              "      <td>0.048434</td>\n",
              "    </tr>\n",
              "    <tr>\n",
              "      <th>std</th>\n",
              "      <td>5161.655742</td>\n",
              "      <td>0.202631</td>\n",
              "      <td>0.403492</td>\n",
              "      <td>0.499945</td>\n",
              "      <td>0.214688</td>\n",
              "    </tr>\n",
              "    <tr>\n",
              "      <th>min</th>\n",
              "      <td>1.000000</td>\n",
              "      <td>0.000000</td>\n",
              "      <td>0.000000</td>\n",
              "      <td>0.000000</td>\n",
              "      <td>0.000000</td>\n",
              "    </tr>\n",
              "    <tr>\n",
              "      <th>25%</th>\n",
              "      <td>4470.750000</td>\n",
              "      <td>0.000000</td>\n",
              "      <td>1.000000</td>\n",
              "      <td>0.000000</td>\n",
              "      <td>0.000000</td>\n",
              "    </tr>\n",
              "    <tr>\n",
              "      <th>50%</th>\n",
              "      <td>8940.500000</td>\n",
              "      <td>0.000000</td>\n",
              "      <td>1.000000</td>\n",
              "      <td>0.000000</td>\n",
              "      <td>0.000000</td>\n",
              "    </tr>\n",
              "    <tr>\n",
              "      <th>75%</th>\n",
              "      <td>13410.250000</td>\n",
              "      <td>0.000000</td>\n",
              "      <td>1.000000</td>\n",
              "      <td>1.000000</td>\n",
              "      <td>0.000000</td>\n",
              "    </tr>\n",
              "    <tr>\n",
              "      <th>max</th>\n",
              "      <td>17880.000000</td>\n",
              "      <td>1.000000</td>\n",
              "      <td>1.000000</td>\n",
              "      <td>1.000000</td>\n",
              "      <td>1.000000</td>\n",
              "    </tr>\n",
              "  </tbody>\n",
              "</table>\n",
              "</div>\n",
              "      <button class=\"colab-df-convert\" onclick=\"convertToInteractive('df-c0d353b5-c90d-4f15-a975-d144da8aae4e')\"\n",
              "              title=\"Convert this dataframe to an interactive table.\"\n",
              "              style=\"display:none;\">\n",
              "        \n",
              "  <svg xmlns=\"http://www.w3.org/2000/svg\" height=\"24px\"viewBox=\"0 0 24 24\"\n",
              "       width=\"24px\">\n",
              "    <path d=\"M0 0h24v24H0V0z\" fill=\"none\"/>\n",
              "    <path d=\"M18.56 5.44l.94 2.06.94-2.06 2.06-.94-2.06-.94-.94-2.06-.94 2.06-2.06.94zm-11 1L8.5 8.5l.94-2.06 2.06-.94-2.06-.94L8.5 2.5l-.94 2.06-2.06.94zm10 10l.94 2.06.94-2.06 2.06-.94-2.06-.94-.94-2.06-.94 2.06-2.06.94z\"/><path d=\"M17.41 7.96l-1.37-1.37c-.4-.4-.92-.59-1.43-.59-.52 0-1.04.2-1.43.59L10.3 9.45l-7.72 7.72c-.78.78-.78 2.05 0 2.83L4 21.41c.39.39.9.59 1.41.59.51 0 1.02-.2 1.41-.59l7.78-7.78 2.81-2.81c.8-.78.8-2.07 0-2.86zM5.41 20L4 18.59l7.72-7.72 1.47 1.35L5.41 20z\"/>\n",
              "  </svg>\n",
              "      </button>\n",
              "      \n",
              "  <style>\n",
              "    .colab-df-container {\n",
              "      display:flex;\n",
              "      flex-wrap:wrap;\n",
              "      gap: 12px;\n",
              "    }\n",
              "\n",
              "    .colab-df-convert {\n",
              "      background-color: #E8F0FE;\n",
              "      border: none;\n",
              "      border-radius: 50%;\n",
              "      cursor: pointer;\n",
              "      display: none;\n",
              "      fill: #1967D2;\n",
              "      height: 32px;\n",
              "      padding: 0 0 0 0;\n",
              "      width: 32px;\n",
              "    }\n",
              "\n",
              "    .colab-df-convert:hover {\n",
              "      background-color: #E2EBFA;\n",
              "      box-shadow: 0px 1px 2px rgba(60, 64, 67, 0.3), 0px 1px 3px 1px rgba(60, 64, 67, 0.15);\n",
              "      fill: #174EA6;\n",
              "    }\n",
              "\n",
              "    [theme=dark] .colab-df-convert {\n",
              "      background-color: #3B4455;\n",
              "      fill: #D2E3FC;\n",
              "    }\n",
              "\n",
              "    [theme=dark] .colab-df-convert:hover {\n",
              "      background-color: #434B5C;\n",
              "      box-shadow: 0px 1px 3px 1px rgba(0, 0, 0, 0.15);\n",
              "      filter: drop-shadow(0px 1px 2px rgba(0, 0, 0, 0.3));\n",
              "      fill: #FFFFFF;\n",
              "    }\n",
              "  </style>\n",
              "\n",
              "      <script>\n",
              "        const buttonEl =\n",
              "          document.querySelector('#df-c0d353b5-c90d-4f15-a975-d144da8aae4e button.colab-df-convert');\n",
              "        buttonEl.style.display =\n",
              "          google.colab.kernel.accessAllowed ? 'block' : 'none';\n",
              "\n",
              "        async function convertToInteractive(key) {\n",
              "          const element = document.querySelector('#df-c0d353b5-c90d-4f15-a975-d144da8aae4e');\n",
              "          const dataTable =\n",
              "            await google.colab.kernel.invokeFunction('convertToInteractive',\n",
              "                                                     [key], {});\n",
              "          if (!dataTable) return;\n",
              "\n",
              "          const docLinkHtml = 'Like what you see? Visit the ' +\n",
              "            '<a target=\"_blank\" href=https://colab.research.google.com/notebooks/data_table.ipynb>data table notebook</a>'\n",
              "            + ' to learn more about interactive tables.';\n",
              "          element.innerHTML = '';\n",
              "          dataTable['output_type'] = 'display_data';\n",
              "          await google.colab.output.renderOutput(dataTable, element);\n",
              "          const docLink = document.createElement('div');\n",
              "          docLink.innerHTML = docLinkHtml;\n",
              "          element.appendChild(docLink);\n",
              "        }\n",
              "      </script>\n",
              "    </div>\n",
              "  </div>\n",
              "  "
            ],
            "text/plain": [
              "             job_id  telecommuting  ...  has_questions    fraudulent\n",
              "count  17880.000000   17880.000000  ...   17880.000000  17880.000000\n",
              "mean    8940.500000       0.042897  ...       0.491723      0.048434\n",
              "std     5161.655742       0.202631  ...       0.499945      0.214688\n",
              "min        1.000000       0.000000  ...       0.000000      0.000000\n",
              "25%     4470.750000       0.000000  ...       0.000000      0.000000\n",
              "50%     8940.500000       0.000000  ...       0.000000      0.000000\n",
              "75%    13410.250000       0.000000  ...       1.000000      0.000000\n",
              "max    17880.000000       1.000000  ...       1.000000      1.000000\n",
              "\n",
              "[8 rows x 5 columns]"
            ]
          },
          "metadata": {},
          "execution_count": 5
        }
      ]
    },
    {
      "cell_type": "code",
      "source": [
        "df.value_counts()"
      ],
      "metadata": {
        "colab": {
          "base_uri": "https://localhost:8080/"
        },
        "id": "ysNrPiwNDpxU",
        "outputId": "6ba6faec-5897-4ab0-ad14-be3659da6a47"
      },
      "execution_count": null,
      "outputs": [
        {
          "output_type": "execute_result",
          "data": {
            "text/plain": [
              "job_id  title                                                     location               department         salary_range  company_profile                                                                                                                                                                                                                                                                                                                                                                                                                                                                                                                                                                                                                                                                                                                                                                                                                                                                                                                                                                                                                                                                                                                                                                                                                                                                                                                                                                                                                                                                                                                                                                                                                                                                                                                                                                                                                                                                                                                                                                                                                                                                                                                                                                                                                                                                                 description                                                                                                                                                                                                                                                                                                                                                                                                                                                                                                                                                                                                                                                                                                                                                                                                                                                                                                                                                                                                                                                                                                                                                                                                                                                                                                                                                                                                                                                                                                                                                                                                                                                                                                                                                                                                                                                                                                                                                                                                                                                                                                                                                                                                                                                                                                                                   requirements                                                                                                                                                                                                                                                                                                                                                                                                                                                                                                                                                                                                                                                                                                                                                                                                                                                                                                                                                                                                                                                                                                                                                                                                                                                                                                                                                                                                                                                                                                                                                                                                                                                                                                                                                    benefits                                                                                                                                                                                                                                                                                                                                                                                                                                                                                                                                                                                                                                                                                                                                                                                                                                                                                                                                                                                                                                                                                                                                                                                                                                                                                                                                                                                                                                                                                                                                                                                                                                                                                                                                                                                                                                                                                                                                                                                                                                                                                                                                                                                                                                                                                                                                                                                                                                                      telecommuting  has_company_logo  has_questions  employment_type  required_experience  required_education         industry           function                fraudulent\n",
              "7       Head of Content (m/f)                                     DE, BE, Berlin         ANDROIDPIT         20000-28000   Founded in 2009, the Fonpit AG rose with its international web portal ANDROIDPIT to the world's largest Android community. Every month over 18 Million Android and tech enthusiasts around the world log into ANDROIDPIT , where they know they'll find the latest and most innovative information about Android and Android-Apps in 6 different languages. Our business activities consist of close collaboration with many of the world's largest tech, web and mobile companies.In 2014, APP MEDIA amended Fonpit AG’s brand portfolio. As a one-stop shop for app marketing,APP MEDIA delivers quality performance marketing for apps to give clients the most successful campaigns possible with custom concepts and sustainable results.Located in the heart of Berlin, we are constantly looking for highly motivated and success driven personalities to help ANDROIDPIT and APP MEDIA grow even further.                                                                                                                                                                                                                                                                                                                                                                                                                                                                                                                                                                                                                                                                                                                                                                                                                                                                                                                                                                                                                                                                                                                                                                                                                                                                                                                                                                               Your Responsibilities: Manage the English-speaking editorial team and build a team of best-in-class editorsSet up content creation schedules and ensure deadlines are adhered toResearch and write about the latest tech topics and news in relation to the Android ecosystemEnsure that the content on the site is of a consistently high qualityBe the face and voice of #URL_874846adb69d98865d05ec57ce2425d9e363ef71e0c8436e59e86a136a508716#                                                                                                                                                                                                                                                                                                                                                                                                                                                                                                                                                                                                                                                                                                                                                                                                                                                                                                                                                                                                                                                                                                                                                                                                                                                                                                                                                                                                                                                                                                                                                                                                                                                                                                                                                                                                                                                                                             Your Know-How:                                                                                                                                                               University or college degree in journalism, media or other communication studiesProfessional experience in relevant fields, e.g. online editorial, community management, tech writing…Possession of contacts within key companies in the mobile industryExperience in leading &amp; motivating small teamsPassion for the Android world, honed writing skills with a personal flair, and willingness to share your Android knowledgeStrong commitment to success and a motivating and inspiring personality.Comfortable in a dynamic startup environmentEnglish native speakerLocated in Berlin or surroundings                                                                                                                                                                                                                                                                                                                                                                                                                                                                                                                                                                                                                                                                                                                                                                                                                                                                                                                                                                    Your Benefits: Being part of a fast-growing company in a booming industryFast decision-making thanks to flat hierarchies and clear structuresFreedom to unfold your own ideas &amp; creativity and to take over responsibility right from the startContinued growth in a successful, international team, which thrives in a familiar, but professional, working atmosphereFree drinks, table tennis, lunch catering, Feel Good Management, team events, office dogs and more                                                                                                                                                                                                                                                                                                                                                                                                                                                                                                                                                                                                                                                                                                                                                                                                                                                                                                                                                                                                                                                                                                                                                                                                                                                                                                                                                                                                                                                                                                                                                                                                                                                                                                                                                                                                                                                                                                                                                                                  0              1                 1              Full-time        Mid-Senior level     Master's Degree            Online Media       Management              0             1\n",
              "10577   Designer (Mobile and Augmented Reality)                   GB, LND, London        Creative Services  35000-50000   As augmented reality jobs go, one at Blippar is hard to beat. We are a rapidly expanding creative startup at the forefront of a brand new industry, so working here offers real opportunities to shape an innovative technology and the way in which people use it.Because of this, we like working with imaginative people who think outside the box, and we love people who throw the whole box away and build something completely new. Our bright, open, centrally located offices are energetic environments bursting with collaborative ideas and boundless enthusiasm.Aside from being part of an exciting, driven, super-friendly team that will nurture your talents and help you grow, at Blippar you’ll find plenty more tangible benefits, including weekly free lunches, evening drinks, and Olive, the office dog.You’ll also be working intimately, from the start, with some of the world’s biggest brands - from Coca Cola and Nestle to Conde Nast, P&amp;G and Jaguar.As a young, growing company spearheading the exciting augmented reality industry, the biggest perk of all is the creative control you’ll be afforded, whether you’re part of the design, tech, commercial or marketing teams. After all, we think our people are amazing, so we want them to stick around.                                                                                                                                                                                                                                                                                                                                                                                                                                                                                                                                                                                                                                                                                                                                                                                                                                                                                                                                                                                             We are looking for amazing designers to join our award winning team of creatives and help us create the next generation of blippar campaigns. Your primary role will be conceptualising awesome campaign ideas for clients wishing to use Blippar’s industry leading augmented reality platform. You will work across all aspects of the process from ideation to delivery, hand in hand with development teams, account managers and giant brands. You will be involved in client meetings, pitches, team leadership and workflow management.This role has come about due to the huge volume of work that we continue to win and will offer huge career growth potential over the next couple of years. Don't hold back we are looking for an awesome designer with fresh ideas to get us excited about where we can take our technology in the next few years.                                                                                                                                                                                                                                                                                                                                                                                                                                                                                                                                                                                                                                                                                                                                                                                                                                                                                                                                                                                                                                                                                                                                                                                                                                                                                                                                                                                                                                                                              You will be inspired by the idea of creating exciting interactive experiences that allow the user to view and play with them from any angle! You will have seen what we have what we already do, be excited about it and believe that you have ideas that will blow us away.Ideally you will;Have Experience covering all processes, from concept and ideation stages to working with developers and maintaining your initial vision throughout development to delivery.  Understand how Augmented Reality presents new possibilities to open up design in the third dimensionHave client facing experienceHave a strong portfolio with examples of your commercial exposure to designing for household name brands.Have exceptional Photoshop and Illustrator skillsHave experience designing user interfaces for mobile devicesHave experience or a good understanding of how to utilise 3D space within your designsHave experience designing creative pitches to be presented to clientsHave team leadership experience, from working with wider teams (Development and Client Services) through to mentoring juniors creatives.Ideally you will also have;Understanding how to design uv meshes and texture mapsExperience working closely with developers to ensure that designs are delivered to your specsPrevious experience designing experiential and creative marketing campaignsExperience working with audio and videoBeing able to freehand sketch and storyboardingPrevious AR exposureExperience working with global teams                                                                                                                                                                                                                     As a designer at blippar you will be offered creative freedom and invited in to all creative sessions. We actively encourage you to express your creative vision, we value your ideas and value your creative input.Our bright, open, centrally located offices are energetic environments bursting with collaborative ideas and boundless enthusiasm. As a growing company spearheading the exciting augmented reality industry, the biggest perk of all is the creative freedom and control you’ll be afforded; this is a genuine opportunity to shape a brand new medium and the way in which people all over the world use it.You will be working closely, and from the start, with some of the world’s leading brands, media agencies, publishers and educators - including Pepsi, Warner Brothers, Procter &amp; Gamble, Conde Nast, Disney and Coca Cola - developing creative augmented reality solutions for global powerhouses across the full spectrum of industries. What we are doing has never been done before, so an active imagination is something we value particularly highly.Blippar’s senior management team are dedicated, hands-on, approachable people who will nurture your talent and encourage the development of your own ideas; we believe these are key to the continued success story of our platform.Being part of Blippar’s close-knit, passionate, forward-thinking team affords plenty of potential for learning about and getting involved in all sections of the business. As a creative tech company offering spectacular marketing solutions to clients, there are few areas we don’t touch upon. Life at Blippar is a steep learning curve, ideal for ambitious candidates who wish to push themselves into completely uncharted territories.We also offer:Competitive packagesGreat benefits and shares schemeEmployee incentive schemeFlexible working environmentWeekly beers and free lunchesOur office dog (London)International travel opportunitiesChance to develop groundbreaking techWork with state-of-the-art hardware and softwareAccess to new wearables including Google GlassA challenge to change the worldChance to shape a new industryCreative freedom and controlExperience with all mobile operating systemsCollaborative opportunities with huge brandsPlease apply now for more details on this role or check out our careers page for more details on other opportunities to work with us.  0              1                 1              Full-time        Associate            Bachelor's Degree          Internet           Design                  0             1\n",
              "11257   Marketing Manager                                         US, TX, Grand Prairie  Marketing          55000-65000   AutoAmerica is trying to make the worst consumer experience fast, easy and enjoyable. It is no easy task, but we are out to disrupt the automotive industry and change it forever. In order to do that, we need a diversity of perspectives and experience. If you are energized by thinking creatively and working for a company where you will be able and expected to make a meaningful impact from day one, then we are the place for you.                                                                                                                                                                                                                                                                                                                                                                                                                                                                                                                                                                                                                                                                                                                                                                                                                                                                                                                                                                                                                                                                                                                                                                                                                                                                                                                                                                                                                                                                                                                                                                                                                                                                                                                                                                                                                                                  Implements marketing and advertising campaigns by working alongside the corporate management, preparing marketing and advertising strategies, plans, and objectives; planning and organizing promotional presentations.Tracks product sales and costs by analyzing and entering sales, expense, and new business data.Prepares marketing reports by collecting, analyzing, and summarizing sales data.Keeps promotional materials ready by coordinating requirements with graphics department; inventorying stock; placing orders; verifying receipt.Supports sales staff by providing sales data, market trends, forecasts, account analyses, new product information; relaying customer services requests.Researches competitive products by identifying and evaluating product characteristics, market share, pricing, and advertising; maintaining research databases.Monitors budgets by comparing and analyzing actual results with plans and forecasts.Maintains communication with local vendors on current marketing plan and advertising options.Accomplishes organization goals by accepting ownership for accomplishing new and different requests; exploring opportunities to add value to job accomplishments.                                                                                                                                                                                                                                                                                                                                                                                                                                                                                                                                                                                                                                                                                                                                                                                                                                                                                                                                                                                                                                                                                                                  Required Skills: Direct Marketing, Email Marketing, Market Segmentation, Marketing Research, Coordination, Project Management, Reporting Research Results, Understanding the Customer, Process Improvement, Initiative, Planning, Financial Skills, Social Media Management, Customer Engagement. Advanced knowledge of Microsoft Excel and willingness to learn other analytical tools. Passion for the creative process and willingness to voice opinions.Qualifications: To be considered for the Marketing Manager position, you must love helping people and possess the drive to achieve superior customer satisfaction. You must be goal-oriented, enthusiastic, energetic and self-motivated. The Marketing Manager will be the local liaison to the Corporate Marketing Team based in another state, and possess the ability to communicate effectively with all levels of the organization.Bachelor’s degree is requiredThree years work experience in a customer facing team environment, preferably eCommerce, SaaS, or an Internet-centric organizationExceptional written and verbal communication skillsAbility to multitask and prioritize effectivelyFlexibility and initiative in the face of fluctuating project requirementsAptitude for acquiring skills in various technical applications and an eagerness to learnEducate others about product changes, new initiatives and quick tipsStrong computing skills including proficiency using business softwarePossess the energy and drive to accomplish goals, meet deadlines, and find solutions without little directionStrong willingness to give and receive feedback and encourage professional growthHiring is contingent on passing a complete background check and drug screening  Medical, Dental, and Vision benefits stating on day 91Access to opportunities to expand your skill set and share your knowledge with othersCompany culture of promotions from within, with a start-up atmosphere allowing for varied and rapid career development                                                                                                                                                                                                                                                                                                                                                                                                                                                                                                                                                                                                                                                                                                                                                                                                                                                                                                                                                                                                                                                                                                                                                                                                                                                                                                                                                                                                                                                                                                                                                                                                                                                                                                                                                                                                                                                                                                                                                                                                                                                                                                                                                                                             0              1                 1              Full-time        Mid-Senior level     Bachelor's Degree          Automotive         Marketing               0             1\n",
              "11286   In-House Sales Recruiter - NY                             US, NY, New York City  Revenue            30000-40000   We’re always looking for highly motivated “founder-types” to join us as we grow. Here’s what you need to know.Our Core Values:Every member of our team brings something unique to the table, but we share the same values:Use your intelligence without arroganceTake initiative, and execute tenaciouslyPut the team’s needs above your ownRespect customers, partners, investors, and co-workersFocus on results, but never compromise on qualityLive to learn, and share what you discoverBe honest, be transparent, and be goodNever, ever give up!Things to Consider:1. We are hiring for entrepreneurial positions, at an entrepreneurial company. This means you’ll need to be resourceful and creative, while also following the processes that will allow us to scale quickly.2. We hire for culture and greatness. We are looking for well-rounded people who are willing to commit wholeheartedly to our cause for the next couple of years and grow alongside the company.3. This is a massive opportunity for the right person. Startup life can be a rollercoaster, but we are led by a team of experienced entrepreneurs who have built and sold multiple companies. The opportunity for upward mobility at The Mobile Majority is tremendous, but only if you’re willing to put forth the effort.Culture and Benefits:It’s no secret that we work hard, but we also strive to create an office environment where the lines between work and play are blurred. This means we offer great perks, to help keep our team healthy, productive, and happy:Full medical, dental, and chiropractic coverage – even acupuncture.Daily company lunches catered in – plus snacks and drinks for days!Frequent team bonding events and company outings (including the occasional beach day!)Unlimited paid vacation time – because we trust you to hold yourself accountable.Gym membership with access to facilities all over LA.Flexible work hours – we know 9am isn’t for everyone.Stock options – if you’ve been with us for a year or more, we want you to experience the pride and rewards of ownership.A referral bonus program.Last, but definitely not least – dogs in the office! Bring your own furry friend, or feel free to cuddle with one of the The Mobile Majority pups.  As a Sales Recruiter, you’ll be tasked with assisting our HR team recruit top-level talent and maintaining The Mobile Majority’s company culture as our team continues to grow.You will handle all aspects of recruiting, hiring, and on-boarding, including the following:Prepare, circulate, and update job postings for all open positionsIdentify prospective hires and sell them on benefitsScreen and evaluate job applicantsCoordinate interviews on behalf of internal hiring leadsOrganize networking events to identify potential candidatesAttend external networking events and maintain company presence within the communityBuild and maintain relationships with local talentYou will promote a positive employee experience and sustain company culture:Stay up to date on research about positive psychology and employee happinessEnsure that department goals are established, displayed, and celebrated appropriatelyCoordinate quarterly management and peer reviewsCoordinate employee perks, including daily office lunches, gym memberships, birthday celebrations, and after-hours eventsEnsure that the office is always clean and well-stocked with suppliesCoordinate travel arrangements for conferences and business tripsManage internal channels of communication (email, video conference, etc.)ABOUT USThe Mobile Majority has invented an entirely new mobile advertising platform that leapfrogs outdated legacy technologies originally intended to traffic image-based ads on desktop browsers.We have engineered the first integrated end-to-end technology that solves the biggest hurdles in mobile today, including creative limitations, viewability, lack of transparency and unverified targeting. This means superior quality, increased value, and unsurpassed results.We are one of the fastest growing companies in the world at over 1000% YOY, and are trusted by F100 brands like Paramount, State Farm, Hersheys, Bayer, Chase &amp; Amazon.Driven to raise mobile industry standards, we’re led by technology and media veterans from Yahoo!, AOL, Apple, Quantcast, Shazam, Datalogix.We have raised over $18M and been honored as the 'Best Creative Technology' by the American Association of Advertising Agencies and won 'Best Series A' by the Los Angeles Venture Association.  Highly motivated self-starter with 1-2 years experience (will consider internships)Strong academic background and organizational skillsGreat communication skills, and the ability to jump-start and maintain a conversationOptimistic outlookPersistenceAbility to work well as part of a teamWillingness to get things done                                                                                                                                                                                                                                                                                                                                                                                                                                                                                                                                                                                                                                                                                                                                                                                                                                                                                                                                                                                                                                                                                                                                                                                                                                                                                                                                                                                                                                   It’s no secret that we work hard, but we also strive to create an office environment where the lines between work and play are blurred. This means we offer great perks, to help keep our team healthy, productive, and happy:Full medical, dental, and chiropractic coverage - even acupuncture.Daily company lunches catered in - and snacks for days!Unlimited paid vacation time - because we trust you to hold yourself accountableGym membership with access to facilitiesStock options - if you’ve been with us for a year or more, we want you to experience the pride and rewards of ownership.                                                                                                                                                                                                                                                                                                                                                                                                                                                                                                                                                                                                                                                                                                                                                                                                                                                                                                                                                                                                                                                                                                                                                                                                                                                                                                                                                                                                                                                                                                                                                                                                                                                                                                                                                                                                                                                      0              1                 1              Full-time        Associate            Bachelor's Degree          Human Resources    Human Resources         0             1\n",
              "11287   Graphic Designer (Augmented Reality and Mobile)           US, NY, New York       Creative Services  50000-70000   As augmented reality jobs go, one at Blippar is hard to beat. We are a rapidly expanding creative startup at the forefront of a brand new industry, so working here offers real opportunities to shape an innovative technology and the way in which people use it.Because of this, we like working with imaginative people who think outside the box, and we love people who throw the whole box away and build something completely new. Our bright, open, centrally located offices are energetic environments bursting with collaborative ideas and boundless enthusiasm.Aside from being part of an exciting, driven, super-friendly team that will nurture your talents and help you grow, at Blippar you’ll find plenty more tangible benefits, including weekly free lunches, evening drinks, and Olive, the office dog.You’ll also be working intimately, from the start, with some of the world’s biggest brands - from Coca Cola and Nestle to Conde Nast, P&amp;G and Jaguar.As a young, growing company spearheading the exciting augmented reality industry, the biggest perk of all is the creative control you’ll be afforded, whether you’re part of the design, tech, commercial or marketing teams. After all, we think our people are amazing, so we want them to stick around.                                                                                                                                                                                                                                                                                                                                                                                                                                                                                                                                                                                                                                                                                                                                                                                                                                                                                                                                                                                             We are looking for amazing graphic designers to join us at Blippar. You will have the opportunity to work with some of the worlds most exciting brands and design awesome augmented reality experiences for their marketing campaigns.Reporting to the lead creative in New York, you will be given unparalleled creative freedom to design blipps for some of the world’s biggest and most forward-thinking brands. During your time with us you will understand the platform’s capabilities, leveraging both your skills as a designer and each brand’s proprietary assets to come up with new and exciting ways of utilising Blippar’s platform.From creating mobile games to working on advertising campaigns; your primary role will be to design blipps (augmented reality experiences) for clients wishing to use Blippar’s amazing potential as an advertising platform. We expect you to have both artistic vision and the hands-on skills needed to create and design each project. You will, of course, be given plenty of training, but an ability to formulate innovative ideas and run with them will help you flourish here.                                                                                                                                                                                                                                                                                                                                                                                                                                                                                                                                                                                                                                                                                                                                                                                                                                                                                                                                                                                                                                                                                                                                                                                                   This is an exciting challenge for creative-minded designers with a background in building interactive experiences for large brands and a portfolio of exciting projects. A history working with big brands would be great, but is not vital. We dont mind where you come from as long as you have a portfolio of amazing work and love working in fast-paced environments.Ideally you will have:Excellent portfolio of digital projectsConfidence using Adobe Creative SuiteAn understanding of interactive, mobile and game designAn understanding of all emerging technologies across mobile, wearables and ARInnovative and creative flairA passion for making amazing digital experiences                                                                                                                                                                                                                                                                                                                                                                                                                                                                                                                                                                                                                                                                                                                                                                                                                                                                                                                                                                                                                                                                   As a designer at blippar you will be offered creative freedom and invited in to all creative sessions. We actively encourage you to express your creative vision, we value your ideas and value your creative input.Our bright, open, centrally located offices are energetic environments bursting with collaborative ideas and boundless enthusiasm. As a growing company spearheading the exciting augmented reality industry, the biggest perk of all is the creative freedom and control you’ll be afforded; this is a genuine opportunity to shape a brand new medium and the way in which people all over the world use it.You will be working closely, and from the start, with some of the world’s leading brands, media agencies, publishers and educators - including Pepsi, Warner Brothers, Procter &amp; Gamble, Conde Nast, Disney and Coca Cola - developing creative augmented reality solutions for global powerhouses across the full spectrum of industries. What we are doing has never been done before, so an active imagination is something we value particularly highly.Blippar’s senior management team are dedicated, hands-on, approachable people who will nurture your talent and encourage the development of your own ideas; we believe these are key to the continued success story of our platform.Being part of Blippar’s close-knit, passionate, forward-thinking team affords plenty of potential for learning about and getting involved in all sections of the business. As a creative tech company offering spectacular marketing solutions to clients, there are few areas we don’t touch upon. Life at Blippar is a steep learning curve, ideal for ambitious candidates who wish to push themselves into completely uncharted territories.We also offer:Competitive packagesGreat Holiday Allowance (20 Days + )Great benefits and shares schemeEmployee incentive schemeFlexible working environmentWeekly beers and free lunchesInternational travel opportunitiesChance to develop groundbreaking techWork with state-of-the-art hardware and softwareAccess to new wearables including Google GlassChance to shape a new industryCreative freedom and controlExperience with all mobile operating systemsCollaborative opportunities with huge brandsPlease apply now for more details on this role or check out our careers page for more details on other opportunities to work with us.                    0              1                 1              Full-time        Associate            Bachelor's Degree          Internet           Design                  0             1\n",
              "                                                                                                                                                                                                                                                                                                                                                                                                                                                                                                                                                                                                                                                                                                                                                                                                                                                                                                                                                                                                                                                                                                                                                                                                                                                                                                                                                                                                                                                                                                                                                                                                                                                                                                                                                                                                                                                                                                                                                                                                                                                                                                                                                                                                                                                                                                                                                                                                                                                                                                                                                                                                                                                                                                                                                                                                                                                                                                                                                                                                                                                                                                                                                                                                                                                                                                                                                                                                                                                                                                                                                                                                                                                                                                                                                                                                                                                                                                                                                                                                                                                                                                                                                                                                                                                                                                                                                                                                                                                                                                                                                                                                                                                                                                                                                                                                                                                                                                                                                                                                                                                                                                                                                                                                                                                                                                                                                                                                                                                                                                                                                                                                                                                                                                                                                                                                                                                                                                                                                                                                                                                                                                                                                                                                                                                                                                                                                                                                                                                                                                                                                                                                                                                                                                                                                                                                                                                                                                                                                                                                                                                                                                                                                                                                                                                                                                                                                                                                                                                                                                                                                                                                                                                                                                                                                                                                                                                                                                                                                                                                                                                                                                                                                                                                                                                                                                                                                                                                                                                                                                                                                                                                                                                                                                                                                                                                                                                                                                                                                                                                                                                                                                                                                                               ..\n",
              "6171    Operations Engineer SaaS                                  DE, BE, Berlin         Operations         50000-70000   Market Logic is changing the way the world's largest companies run their market research and marketing functions. We are doing this by providing a unique SaaS-solution to capture all information about customers, markets, brands and competition and funelling the relevant knowledge to inform and inspire marketing decisions from innovation to activation. We believe that a systematic approach to integrate and use existing knowledge will dramatically improve the effectiveness of the hundreds of billions dollars spent on marketing each and every year across all industries, from consumer goods to pharmaceuticals.We are a venture-capital financed company with an experienced team of management executives who have a proven track record of delivering award-winning software solutions for enterprise customers. Seasoned operational executives, including Robert Hoog (former CEO of Ixos Software) and Arno Bohn (former CEO of Porsche), support us on the supervisory board. We advance our vision for a new way of doing marketing together with thought leaders from both the academic and professional side, including Prof. Dr. Dr. Meffert (Marketing Centrum Münster) and Prof. Dr. Schroiff (former Corporate VP of market research at Henkel).Market Logic offers a dynamic, fun and enjoyable work environment, located in central Berlin - just a block away from Kurfürstendamm. We are working with the latest and greatest technologies on engineering and UX challenges to deliver a truly innovative, scalable enterprise software that will alter the way an entire industry works.                                                                                                                                                                                                                                                                                                                                                                                                                                                                                                                                                                                                                                                                Market Logic is looking for an experienced OPERATIONS ENGINEER with passion for their work and the ambition to deliver flawless operations of its SaaS-offering to some of the world's largest corporations.We are looking for someone who will drive further automation of our private cloud infrastructure, as well as support our daily operational tasks. We work in an open, collaborative environment and seek candidates who enjoy problem solving and strive for continuous improvement. We highly value thinking outside the box and proactively taking on responsibility to achieve outstanding results. Challenges that our team works on include virtualization management, operations automation, pro-active monitoring, continuous delivery, and disaster recovery.Market Logic is a fast-growing, Berlin-based company where you will be part of an international super-talented team, led by experienced management with a track record of delivering award-winning, world-class products to enterprise customers. Join us working with the latest technologies to build a truly innovative, scalable enterprise solution that changes the way the world's largest corporations run their market research and marketing. Your responsibilitiesDriving automation of our private cloud infrastructureOngoing maintenance of our multi-tenant and dedicated application instancesParticipating in disaster recovery planning and testingWorking with development, product management and senior management to continuously improve the efficiency and flexibility of our operations infrastructure                                                                                                                                                                                                                                                                                                                                                                                                                                                                                                                                                                                                                                                                                                                              3+ years professional experience in running custom software applicationsProfessional experience in IT automation (Chef, Puppet, et al)Experience with JEE-based application stacksProfound practical knowledge of Linux, bash, scriptingExperience with virtualization management (vSphere) a plusExperience with Windows Server a plusKnowledge of Java-programming a plusFlexibility in working hoursVery good English - we are an international company (no German required!)                                                                                                                                                                                                                                                                                                                                                                                                                                                                                                                                                                                                                                                                                                                                                                                                                                                                                                                                                                                                                                                                                                                                                                                                                                                                                Earn a competitive salaryWork with state-of-the-art technologiesDevelop your skills to the next levelTake advantage of flexible vacationsHave fun in regular team events                                                                                                                                                                                                                                                                                                                                                                                                                                                                                                                                                                                                                                                                                                                                                                                                                                                                                                                                                                                                                                                                                                                                                                                                                                                                                                                                                                                                                                                                                                                                                                                                                                                                                                                                                                                                                                                                                                                                                                                                                                                                                                                                                                                                                                                                                      0              1                 1              Full-time        Associate            Bachelor's Degree          Computer Software  Information Technology  0             1\n",
              "6192    On-Premise Deployment Engineer                            DE, BE, Berlin         Operations         45000-60000   Market Logic is changing the way the world's largest companies run their market research and marketing functions. We are doing this by providing a unique SaaS-solution to capture all information about customers, markets, brands and competition and funelling the relevant knowledge to inform and inspire marketing decisions from innovation to activation. We believe that a systematic approach to integrate and use existing knowledge will dramatically improve the effectiveness of the hundreds of billions dollars spent on marketing each and every year across all industries, from consumer goods to pharmaceuticals.We are a venture-capital financed company with an experienced team of management executives who have a proven track record of delivering award-winning software solutions for enterprise customers. Seasoned operational executives, including Robert Hoog (former CEO of Ixos Software) and Arno Bohn (former CEO of Porsche), support us on the supervisory board. We advance our vision for a new way of doing marketing together with thought leaders from both the academic and professional side, including Prof. Dr. Dr. Meffert (Marketing Centrum Münster) and Prof. Dr. Schroiff (former Corporate VP of market research at Henkel).Market Logic offers a dynamic, fun and enjoyable work environment, located in central Berlin - just a block away from Kurfürstendamm. We are working with the latest and greatest technologies on engineering and UX challenges to deliver a truly innovative, scalable enterprise software that will alter the way an entire industry works.                                                                                                                                                                                                                                                                                                                                                                                                                                                                                                                                                                                                                                                                Market Logic is looking for an experienced ON-PREMISE DEPLOYMENT ENGINEER with passion for their work and the ambition to provide a world-class service experience to the on-premise customers of our application suite.We are looking for someone who will lead and execute on-premise deployments of our web-application suite in close coordination with in-house IT of some of the world's largest organizations. We work in an open, collaborative environment and seek candidates with a structured approach to problem solving and a keen eye for detail. We highly value thinking outside the box and proactively taking on responsibility to achieve outstanding results. Challenges that our team works on include 24x7 availability, consistent application performance across the globe, continuous delivery, and disaster recovery.Market Logic is a fast-growing, Berlin-based company where you will be part of an international super-talented team, led by experienced management with a track record of delivering award-winning, world-class products to enterprise customers. Join us working with the latest technologies to build a truly innovative, scalable enterprise solution that changes the way the world's largest corporations run their market research and marketing. Your responsibilitiesManaging and executing deployment and upgrade projects in direct coordination with customersSupporting the customer's in-house IT in monitoring and maintaining the application on an ongoing basisWorking with together with client service teams to continuously improve the service experience of our customers                                                                                                                                                                                                                                                                                                                                                                                                                                                                                                                                                                                                                                                                                               2+ years commerical experience in installing and maintaing Windows-based application serversDeep knowledge of the Windows Server platformKnowledge of Active Directory and KerberosKnowledge of MS SQL Server a plusVery good English - we are an international company (no German required!)                                                                                                                                                                                                                                                                                                                                                                                                                                                                                                                                                                                                                                                                                                                                                                                                                                                                                                                                                                                                                                                                                                                                                                                                                                                                                                                                                                                                                                                                   Earn a competitive salaryWork with professional peers from the world's largest corporationsDevelop your skills to the next levelWork with premium gearTake advantage of flexible vacationsHave fun in regular team events                                                                                                                                                                                                                                                                                                                                                                                                                                                                                                                                                                                                                                                                                                                                                                                                                                                                                                                                                                                                                                                                                                                                                                                                                                                                                                                                                                                                                                                                                                                                                                                                                                                                                                                                                                                                                                                                                                                                                                                                                                                                                                                                                                                                                                     0              1                 1              Full-time        Associate            Bachelor's Degree          Computer Software  Engineering             0             1\n",
              "6275    Assistant Retail Sales Manager                            GB, ESS, Colchester    Retail             17000-30000   Wedo is a collection of niched e-commerce stores which aim to be the first destination for online shoppers buying in the various niches that we operate in. Due to our continued commitment to the best, we are now looking for more people to join our lively team at a very exciting time. As we continue to grow we're looking for incredibly passionate people who want to be part of something amazing. We’re looking for outgoing, positive and driven individuals who want to make a difference where they work. We can teach you a lot of what you need to know about the job. What we can’t teach you is aptitude and attitude, two of the most important aspects to succeeding at Wedo. If you’d like to work in an environment that feels friendly and welcoming, professional, highly interactive and ready to hear your ideas, then read on.                                                                                                                                                                                                                                                                                                                                                                                                                                                                                                                                                                                                                                                                                                                                                                                                                                                                                                                                                                                                                                                                                                                                                                                                                                                                                                                                                                                                                                       As an Assistant Retail Sales Manager you will be responsible for actively inspiring and fulfilling our customers’ dream home projects by delivering products and services, from design to off the shelf trade. You will be a passionate advocate for the customer experience and will hold responsibility for actively promoting and selling our products and services. You will also be expected to exceed sales targets by inspiring our customers with a clear understanding that our customers are at the heart of everything we do, which in turn helps to create brand loyalty.Who we’re looking for:The role we are recruiting for is much more than a sales role. You will be the first person new customers speak to when they walk into our store, so it is important you have a confident and personable outlook. This is an opportunity to learn all about customer focused retail and e-commerce while also ensuring new customers get friendly, expert advice which ultimately results in sales and recommendations. If you have this and are focussed, driven and hungry for a retail sales opportunity to prove your worth, then you are exactly what we are looking for. We consider full and part time applicants.                                                                                                                                                                                                                                                                                                                                                                                                                                                                                                                                                                                                                                                                                                                                                                                                                                                                                                                                                                                                                                                                                                          Successful candidates applying for the role will have the following key attributes:• Maximising sales through proactive selling using knowledge and experience to confidently perform regular product demonstrations. • Passion for creating the ultimate customer experience • Ability to close, generate new sales and maximise business • Developing rapport – initiating contact with the customer, establishing the customer’s needs by listening, asking open questions and communicating confidently to fulfil their needs • Taking personal responsibility for the customer experience for pre-sales, during and after sales along with resolving any customer issues in a timely manner • Maintaining a productive and helpful working relationship across all areas of the business. • Monitoring competitor activity and using local knowledge to identify opportunities and generate repeat business/customer loyalty • Belief in continual development • An outgoing personality • Computer literate and comfortable learning how to use new applications • Preferably from a furniture retail background.                                                                                                                                                                                                                                                                                                                                                                                                                                                                                                                                                                                                                                         What are the benefits of working at Wedo?We will give you the opportunity of fantastic earnings, with a variety of bonus incentives throughout the year, great career prospects and the tools to achieve great job satisfaction. Which include:• Fantastic earnings, £20-30k OTE• Uncapped commission structure so unlimited earnings!!• Generous guaranteed basic salary dependant on experience.• Opportunities for progression including store management.• Staff discount scheme.• Holidays 24 days per annum + days off for Bank Holidays.• Exceptional training and development to become an expert furniture sales professional.• An opportunity to work in a fast paced, fast growing company where there is no limit to how far you can progress within the business.                                                                                                                                                                                                                                                                                                                                                                                                                                                                                                                                                                                                                                                                                                                                                                                                                                                                                                                                                                                                                                                                                                                                                                                                                                                                                                                                                                                                                                                                                                                                                                                                                                                                                0              1                 1              Full-time        Entry level          Unspecified                Retail             Sales                   0             1\n",
              "6293    Construction Management - South Chicago/IN                US, IL, Orland Park    Sales              70000-125000  Advocate Construction is an up and coming leader in the disaster recovery industry, In early 2012, Advocate was founded by two individuals that decided that they wanted something better in life, today their idea, hard work and dedication has grown Advocate Construction into a team of over 25 sales professionals and 3 branches offices in 3 different states with more offices opening soon. Advocate believes in growth of its entire workforce and offers an outstanding management training program. Our Sales managers will provide the invaluable tools needed for you to be successful for many years to come. So if you have what it takes to be part of something great then we encourage you to apply today! The Advocate difference! We believe that hard work and dedication deserves to be rewarded, we provide the opportunity for every single team member to be successful by homing in on a working process and delivering a top notch product plus exceeding our commitment to service. This posture has taken us to the next level of sales and revenue.                                                                                                                                                                                                                                                                                                                                                                                                                                                                                                                                                                                                                                                                                                                                                                                                                                                                                                                                                                                                                                                                                                                                                                                                             Are you looking for an exciting new position and an opportunity to change your life for the better?About us:Advocate Construction is currently expanding our territory in the Southern Chicago Area, due to this exciting growth we are now looking to offer an outstanding opportunity for the right person that is not intimidated by hard work and has what it takes to become part of a company that has increased sales year after year.As an Assistant Manager you will help Advocate Construction in our mission to help homeowners obtain much needed repairs to their homes after they have experienced damage due to a severe storm at little or no cost.Advocate Construction offers an outstanding Management Trainee Program (MTP) which focuses on sales and business management education; this invaluable training will enable you to acquire an impressive skill set which will lead you into senior management and earn a sustainable income for many years to come.If you are seeking a long term career with unlimited potential and are interested in becoming a Assistant Manger, we invite you to apply with your resume and introduction as to why you are the right person for this outstanding opportunity.Visit us at hr.#URL_008f95d1230230d6c10ef1475cb94101d63ed7b9add0ff1a364c3c4a3e45286a#                                                                                                                                                                                                                                                                                                                                                                                                                                                                                                                                                                                                                                                                                                                                                                                                                                                                                                                                                                                                                    Basic Requirements needed:Ability to effectively communicate in English, in person as well as by phone and email.Ability to present, pitch and deliver brief customer orientations in person on consistent basis.Negotiation skills and proven track record of effective communications.Ability to work with minimal supervision after paid training has been completed.Ability to supervise, train and develop new sales talent.Ability to climb roofs and ladders on a constant basis.Must have a pleasant, energetic and empathic demeanor.Must be able to work, secure and canvasses an area on foot and train others in the same process. Must be neat and have the ability to represent yourself and the company.Applicants with experience in the service and sales industry will be highly considered.Applicants with previous supervisory experience is a plus.                                                                                                                                                                                                                                                                                                                                                                                                                                                                                                                                                                                                                                                                                                                                                                                                                                                                                        What we offer for your hard work:An excellent compensation package, with secured and guaranteed high earnings, vacations, bonuses.Serious income to start 50K plus percentage of profit, plus percentage of your teams profit. (High Potential)Year round full time work, No seasonal work here!Weekly compensation payout after the first two weeks of employment. Direct Deposit available.Excellent new manager training by your co managers and sales director.Need a pickup truck, No Problem! We offer truck rental/lease assistance program.Develop territory which leads to a path of Branch Management. Relaxed and comfortable work environment with casual business dress.Dedicated support team that ensures you have everything you need to be successful.                                                                                                                                                                                                                                                                                                                                                                                                                                                                                                                                                                                                                                                                                                                                                                                                                                                                                                                                                                                                                                                                                                                                                                                                                                                                                                                                                                                                                                                                                                                                                                                                                                                                                       0              1                 1              Full-time        Mid-Senior level     High School or equivalent  Construction       Sales                   0             1\n",
              "17866   Portfolio Development Associate - Paris & rest of France  GB, LND, London        Sales              18000-20000   We're hiring!AvenueStory is a concept driven by people, a team that thrives by delivering results, making people happy and achieving targets. We always need talented individuals to help us grow, develop and improve our service. If this sounds a bit like you, we invite you to be part of our international and dynamic team.Avenue Story offers chic apartment accommodation in Paris and London for leisure and business short term stays - a redefined travel experience, enabling guests to stay in unique surroundings and explore each city like a local. Our offer also include personalized local concierge service, helping each guest plan all stages of their trip. See what we do here.                                                                                                                                                                                                                                                                                                                                                                                                                                                                                                                                                                                                                                                                                                                                                                                                                                                                                                                                                                                                                                                                                                                                                                                                                                                                                                                                                                                                                                                                                                                                                                                        AvenueStory is looking for a curious, ambitious and adaptable individual to join us in our London HQ as a Portfolio Development Associate for the French market, reporting to the Reservations Sales Manager.Distinctive homes and their inquisitive owners in Paris and other areas of France will be your circles of influence, and you’ll call on a wealth of diplomatic channels to attract new property owners to the AvenueStory portfolio.You’ll need to be game for the challenge, because the growth of our portfolio of homes will rely on your just judgement.This role is ideal for:A dynamic, confident and determined talent with ideally a background in sales, travel, hospitality, real estate or property management, ready to take on a new challenge. You will be responsible for:Sourcing and building a portfolio of beautiful homes by forging the initial relationship with our hosts through cold calling, emailing inquiring and relationship building.Achieving monthly targetsFormulating agreements with owners and agencies alike with regards to partnership terms.Wooing new hosts and informing them about all things AvenueStory, be that our quirks or our contractsNegotiating the pricing of our homes, striking the balance between hosts’ and AvenueStory wishes and wantsCommunicating efficiently with new owners and your teamUnderstanding what new hosts’ needs are and responding to them empatheticallyAttend networking events and exhibitions                                                                                                                                                                                                                                                                                                                                                                                                                                                                                                                                                                                                                                                                                                                                                                                                                                                 Comfortable on the phone, fluent in French and English, both oral and written essential, other languages are bonus. Elegant but persuasive manner Self Motivated and excellent time management skills.Strong communication and people skills – warm, supportive and able to built rapport quicklyCommercially aware – you can make commercial judgements and understand the impacts on the businessOutgoing personality – you’re charming, fun, witty and you’d have a cup of tea and a chat with anyoneLight on your feet, responsive and adaptable.People trust you and you make them feel confident in our productA true entrepreneurial self-starter willing to work early, late and play frequentlyA good degree and/or at least 1 year previous commercial experienceAbility to thrive in an unstructured environmentGood knowledge of the geography of Paris and the rest of France                                                                                                                                                                                                                                                                                                                                                                                                                                                                                                                                                                                                                                                                                                                                                                                                                                                                      Working within a small, young dynamic team in a rapidly expanding start-up, almost too much responsibility at times. Occasional trips abroad, event invitations. Salary: up to 20K per annum + bonuses, 28 days holiday, part contribution to Virgin Active gym membership.                                                                                                                                                                                                                                                                                                                                                                                                                                                                                                                                                                                                                                                                                                                                                                                                                                                                                                                                                                                                                                                                                                                                                                                                                                                                                                                                                                                                                                                                                                                                                                                                                                                                                                                                                                                                                                                                                                                                                                                                                                                                                                                                                                                   0              1                 1              Full-time        Entry level          Bachelor's Degree          Real Estate        Sales                   0             1\n",
              "Length: 774, dtype: int64"
            ]
          },
          "metadata": {},
          "execution_count": 6
        }
      ]
    },
    {
      "cell_type": "markdown",
      "source": [
        "FINDING TOTAL NUMBER OF NULL VALUES"
      ],
      "metadata": {
        "id": "p4uswVK4c1x_"
      }
    },
    {
      "cell_type": "code",
      "source": [
        "df.isnull().sum()"
      ],
      "metadata": {
        "colab": {
          "base_uri": "https://localhost:8080/"
        },
        "id": "VGrWtmHTGT2U",
        "outputId": "b0215eed-27e7-492e-ec06-e8d01cc8cbca"
      },
      "execution_count": null,
      "outputs": [
        {
          "output_type": "execute_result",
          "data": {
            "text/plain": [
              "job_id                     0\n",
              "title                      0\n",
              "location                 346\n",
              "department             11553\n",
              "salary_range           15012\n",
              "company_profile         3308\n",
              "description                1\n",
              "requirements            2695\n",
              "benefits                7210\n",
              "telecommuting              0\n",
              "has_company_logo           0\n",
              "has_questions              0\n",
              "employment_type         3471\n",
              "required_experience     7050\n",
              "required_education      8105\n",
              "industry                4903\n",
              "function                6455\n",
              "fraudulent                 0\n",
              "dtype: int64"
            ]
          },
          "metadata": {},
          "execution_count": 7
        }
      ]
    },
    {
      "cell_type": "markdown",
      "source": [
        "CONVERTING  NULL CATEGORICAL VALUES USING MODE FUNCTION"
      ],
      "metadata": {
        "id": "diaPZuEudrui"
      }
    },
    {
      "cell_type": "code",
      "source": [
        "df['location']=df['location'].fillna(df['location'].mode()[0])\n",
        "df['department']=df['department'].fillna(df['department'].mode()[0])\n",
        "df['company_profile']=df['company_profile'].fillna(df['company_profile'].mode()[0])\n",
        "df['description']=df['description'].fillna(df['description'].mode()[0])\n",
        "df['benefits']=df['benefits'].fillna(df['benefits'].mode()[0])\n",
        "df['employment_type']=df['employment_type'].fillna(df['employment_type'].mode()[0])\n",
        "df['required_experience']=df['required_experience'].fillna(df['required_experience'].mode()[0])\n",
        "df['required_education']=df['required_education'].fillna(df['required_education'].mode()[0])\n",
        "df['industry']=df['industry'].fillna(df['industry'].mode()[0])\n",
        "df['function']=df['function'].fillna(df['function'].mode()[0])"
      ],
      "metadata": {
        "id": "aO8sSfRfTObX"
      },
      "execution_count": null,
      "outputs": []
    },
    {
      "cell_type": "markdown",
      "source": [
        "NO NULL VALUES LEFT!!!!!!!"
      ],
      "metadata": {
        "id": "jRJwTVAWd-9l"
      }
    },
    {
      "cell_type": "code",
      "source": [
        "df.isnull().sum()"
      ],
      "metadata": {
        "colab": {
          "base_uri": "https://localhost:8080/"
        },
        "id": "ZcUquNCsYctP",
        "outputId": "6e1f6881-8f53-4d1d-f7bc-e0b0d33bafff"
      },
      "execution_count": null,
      "outputs": [
        {
          "output_type": "execute_result",
          "data": {
            "text/plain": [
              "job_id                     0\n",
              "title                      0\n",
              "location                   0\n",
              "department                 0\n",
              "salary_range           15012\n",
              "company_profile            0\n",
              "description                0\n",
              "requirements            2695\n",
              "benefits                   0\n",
              "telecommuting              0\n",
              "has_company_logo           0\n",
              "has_questions              0\n",
              "employment_type            0\n",
              "required_experience        0\n",
              "required_education         0\n",
              "industry                   0\n",
              "function                   0\n",
              "fraudulent                 0\n",
              "dtype: int64"
            ]
          },
          "metadata": {},
          "execution_count": 9
        }
      ]
    },
    {
      "cell_type": "code",
      "source": [
        "df.loc[:,\"requirements\"]"
      ],
      "metadata": {
        "colab": {
          "base_uri": "https://localhost:8080/"
        },
        "id": "RpcxufGXYzXE",
        "outputId": "69ee2a9c-3ed3-44d2-a475-0abda9645da1"
      },
      "execution_count": null,
      "outputs": [
        {
          "output_type": "execute_result",
          "data": {
            "text/plain": [
              "0        Experience with content management systems a m...\n",
              "1        What we expect from you:Your key responsibilit...\n",
              "2        Implement pre-commissioning and commissioning ...\n",
              "3        EDUCATION: Bachelor’s or Master’s in GIS, busi...\n",
              "4        QUALIFICATIONS:RN license in the State of Texa...\n",
              "                               ...                        \n",
              "17875    To ace this role you:Will eat comprehensive St...\n",
              "17876    - B.A. or B.S. in Accounting- Desire to have f...\n",
              "17877    At least 12 years professional experience.Abil...\n",
              "17878    1. Must be fluent in the latest versions of Co...\n",
              "17879    We want to hear from you if:You have an in-dep...\n",
              "Name: requirements, Length: 17880, dtype: object"
            ]
          },
          "metadata": {},
          "execution_count": 10
        }
      ]
    },
    {
      "cell_type": "markdown",
      "source": [
        "DROPPING COLUMNS THAT WON'T BE REQUIRED!!!"
      ],
      "metadata": {
        "id": "lKtYzqokeO0w"
      }
    },
    {
      "cell_type": "code",
      "source": [
        "df=df.drop(['requirements','salary_range','has_company_logo','has_questions'],axis=1)\n"
      ],
      "metadata": {
        "id": "0eU6EBdrci1o"
      },
      "execution_count": null,
      "outputs": []
    },
    {
      "cell_type": "code",
      "source": [
        "df.isnull().sum()"
      ],
      "metadata": {
        "colab": {
          "base_uri": "https://localhost:8080/"
        },
        "id": "OkXxtGOPLC8m",
        "outputId": "4234d1e5-6e30-440b-9be6-37b8e33e177b"
      },
      "execution_count": null,
      "outputs": [
        {
          "output_type": "execute_result",
          "data": {
            "text/plain": [
              "job_id                 0\n",
              "title                  0\n",
              "location               0\n",
              "department             0\n",
              "company_profile        0\n",
              "description            0\n",
              "benefits               0\n",
              "telecommuting          0\n",
              "employment_type        0\n",
              "required_experience    0\n",
              "required_education     0\n",
              "industry               0\n",
              "function               0\n",
              "fraudulent             0\n",
              "dtype: int64"
            ]
          },
          "metadata": {},
          "execution_count": 12
        }
      ]
    },
    {
      "cell_type": "markdown",
      "source": [
        "PLOTTING COUNTPLOT AND BARPLOT"
      ],
      "metadata": {
        "id": "kLxFvHZGenVL"
      }
    },
    {
      "cell_type": "code",
      "source": [
        "import seaborn as sns"
      ],
      "metadata": {
        "id": "Cu0Gz9-kMPd2"
      },
      "execution_count": null,
      "outputs": []
    },
    {
      "cell_type": "code",
      "source": [
        "sns.countplot(x= 'fraudulent',data=df) "
      ],
      "metadata": {
        "colab": {
          "base_uri": "https://localhost:8080/",
          "height": 296
        },
        "id": "lwp5k61tKiMH",
        "outputId": "bffe12bc-1d60-4f40-81e3-ed6bafe498e8"
      },
      "execution_count": null,
      "outputs": [
        {
          "output_type": "execute_result",
          "data": {
            "text/plain": [
              "<matplotlib.axes._subplots.AxesSubplot at 0x7f0971436090>"
            ]
          },
          "metadata": {},
          "execution_count": 14
        },
        {
          "output_type": "display_data",
          "data": {
            "image/png": "[encoded data removed]",
            "text/plain": [
              "<Figure size 432x288 with 1 Axes>"
            ]
          },
          "metadata": {
            "needs_background": "light"
          }
        }
      ]
    },
    {
      "cell_type": "code",
      "source": [
        "sns.barplot(x='fraudulent',y='location',data=df)"
      ],
      "metadata": {
        "colab": {
          "base_uri": "https://localhost:8080/",
          "height": 707
        },
        "id": "fbYQuLqt-3ra",
        "outputId": "4141a032-28e4-48fa-f2fa-360a1887d0b3"
      },
      "execution_count": null,
      "outputs": [
        {
          "output_type": "execute_result",
          "data": {
            "text/plain": [
              "<matplotlib.axes._subplots.AxesSubplot at 0x7f09706da810>"
            ]
          },
          "metadata": {},
          "execution_count": 15
        },
        {
          "output_type": "stream",
          "name": "stderr",
          "text": [
            "/usr/local/lib/python3.7/dist-packages/matplotlib/backends/backend_agg.py:214: RuntimeWarning: Glyph 9 missing from current font.\n",
            "  font.set_text(s, 0.0, flags=flags)\n",
            "/usr/local/lib/python3.7/dist-packages/matplotlib/backends/backend_agg.py:214: RuntimeWarning: Glyph 47560 missing from current font.\n",
            "  font.set_text(s, 0.0, flags=flags)\n",
            "/usr/local/lib/python3.7/dist-packages/matplotlib/backends/backend_agg.py:214: RuntimeWarning: Glyph 54252 missing from current font.\n",
            "  font.set_text(s, 0.0, flags=flags)\n",
            "/usr/local/lib/python3.7/dist-packages/matplotlib/backends/backend_agg.py:214: RuntimeWarning: Glyph 44396 missing from current font.\n",
            "  font.set_text(s, 0.0, flags=flags)\n",
            "/usr/local/lib/python3.7/dist-packages/matplotlib/backends/backend_agg.py:214: RuntimeWarning: Glyph 46041 missing from current font.\n",
            "  font.set_text(s, 0.0, flags=flags)\n",
            "/usr/local/lib/python3.7/dist-packages/matplotlib/backends/backend_agg.py:214: RuntimeWarning: Glyph 44368 missing from current font.\n",
            "  font.set_text(s, 0.0, flags=flags)\n",
            "/usr/local/lib/python3.7/dist-packages/matplotlib/backends/backend_agg.py:183: RuntimeWarning: Glyph 9 missing from current font.\n",
            "  font.set_text(s, 0, flags=flags)\n",
            "/usr/local/lib/python3.7/dist-packages/matplotlib/backends/backend_agg.py:183: RuntimeWarning: Glyph 47560 missing from current font.\n",
            "  font.set_text(s, 0, flags=flags)\n",
            "/usr/local/lib/python3.7/dist-packages/matplotlib/backends/backend_agg.py:183: RuntimeWarning: Glyph 54252 missing from current font.\n",
            "  font.set_text(s, 0, flags=flags)\n",
            "/usr/local/lib/python3.7/dist-packages/matplotlib/backends/backend_agg.py:183: RuntimeWarning: Glyph 44396 missing from current font.\n",
            "  font.set_text(s, 0, flags=flags)\n",
            "/usr/local/lib/python3.7/dist-packages/matplotlib/backends/backend_agg.py:183: RuntimeWarning: Glyph 46041 missing from current font.\n",
            "  font.set_text(s, 0, flags=flags)\n",
            "/usr/local/lib/python3.7/dist-packages/matplotlib/backends/backend_agg.py:183: RuntimeWarning: Glyph 44368 missing from current font.\n",
            "  font.set_text(s, 0, flags=flags)\n"
          ]
        },
        {
          "output_type": "display_data",
          "data": {
            "image/png": "[encoded data removed]",
            "text/plain": [
              "<Figure size 432x288 with 1 Axes>"
            ]
          },
          "metadata": {
            "needs_background": "light"
          }
        }
      ]
    },
    {
      "cell_type": "code",
      "source": [
        "X=df.drop('fraudulent',axis=1) #Predictors\n",
        "y=df['fraudulent'] \n",
        "X.head()"
      ],
      "metadata": {
        "colab": {
          "base_uri": "https://localhost:8080/",
          "height": 617
        },
        "id": "Gnt7NghDLubQ",
        "outputId": "de411b39-1cb6-42d5-bf96-47bcaa9e88cd"
      },
      "execution_count": null,
      "outputs": [
        {
          "output_type": "execute_result",
          "data": {
            "text/html": [
              "\n",
              "  <div id=\"df-9c0c41da-0e7c-478e-8aef-8ad13a36304f\">\n",
              "    <div class=\"colab-df-container\">\n",
              "      <div>\n",
              "<style scoped>\n",
              "    .dataframe tbody tr th:only-of-type {\n",
              "        vertical-align: middle;\n",
              "    }\n",
              "\n",
              "    .dataframe tbody tr th {\n",
              "        vertical-align: top;\n",
              "    }\n",
              "\n",
              "    .dataframe thead th {\n",
              "        text-align: right;\n",
              "    }\n",
              "</style>\n",
              "<table border=\"1\" class=\"dataframe\">\n",
              "  <thead>\n",
              "    <tr style=\"text-align: right;\">\n",
              "      <th></th>\n",
              "      <th>job_id</th>\n",
              "      <th>title</th>\n",
              "      <th>location</th>\n",
              "      <th>department</th>\n",
              "      <th>company_profile</th>\n",
              "      <th>description</th>\n",
              "      <th>benefits</th>\n",
              "      <th>telecommuting</th>\n",
              "      <th>employment_type</th>\n",
              "      <th>required_experience</th>\n",
              "      <th>required_education</th>\n",
              "      <th>industry</th>\n",
              "      <th>function</th>\n",
              "    </tr>\n",
              "  </thead>\n",
              "  <tbody>\n",
              "    <tr>\n",
              "      <th>0</th>\n",
              "      <td>1</td>\n",
              "      <td>Marketing Intern</td>\n",
              "      <td>US, NY, New York</td>\n",
              "      <td>Marketing</td>\n",
              "      <td>We're Food52, and we've created a groundbreaki...</td>\n",
              "      <td>Food52, a fast-growing, James Beard Award-winn...</td>\n",
              "      <td>See job description</td>\n",
              "      <td>0</td>\n",
              "      <td>Other</td>\n",
              "      <td>Internship</td>\n",
              "      <td>Bachelor's Degree</td>\n",
              "      <td>Information Technology and Services</td>\n",
              "      <td>Marketing</td>\n",
              "    </tr>\n",
              "    <tr>\n",
              "      <th>1</th>\n",
              "      <td>2</td>\n",
              "      <td>Customer Service - Cloud Video Production</td>\n",
              "      <td>NZ, , Auckland</td>\n",
              "      <td>Success</td>\n",
              "      <td>90 Seconds, the worlds Cloud Video Production ...</td>\n",
              "      <td>Organised - Focused - Vibrant - Awesome!Do you...</td>\n",
              "      <td>What you will get from usThrough being part of...</td>\n",
              "      <td>0</td>\n",
              "      <td>Full-time</td>\n",
              "      <td>Not Applicable</td>\n",
              "      <td>Bachelor's Degree</td>\n",
              "      <td>Marketing and Advertising</td>\n",
              "      <td>Customer Service</td>\n",
              "    </tr>\n",
              "    <tr>\n",
              "      <th>2</th>\n",
              "      <td>3</td>\n",
              "      <td>Commissioning Machinery Assistant (CMA)</td>\n",
              "      <td>US, IA, Wever</td>\n",
              "      <td>Sales</td>\n",
              "      <td>Valor Services provides Workforce Solutions th...</td>\n",
              "      <td>Our client, located in Houston, is actively se...</td>\n",
              "      <td>See job description</td>\n",
              "      <td>0</td>\n",
              "      <td>Full-time</td>\n",
              "      <td>Mid-Senior level</td>\n",
              "      <td>Bachelor's Degree</td>\n",
              "      <td>Information Technology and Services</td>\n",
              "      <td>Information Technology</td>\n",
              "    </tr>\n",
              "    <tr>\n",
              "      <th>3</th>\n",
              "      <td>4</td>\n",
              "      <td>Account Executive - Washington DC</td>\n",
              "      <td>US, DC, Washington</td>\n",
              "      <td>Sales</td>\n",
              "      <td>Our passion for improving quality of life thro...</td>\n",
              "      <td>THE COMPANY: ESRI – Environmental Systems Rese...</td>\n",
              "      <td>Our culture is anything but corporate—we have ...</td>\n",
              "      <td>0</td>\n",
              "      <td>Full-time</td>\n",
              "      <td>Mid-Senior level</td>\n",
              "      <td>Bachelor's Degree</td>\n",
              "      <td>Computer Software</td>\n",
              "      <td>Sales</td>\n",
              "    </tr>\n",
              "    <tr>\n",
              "      <th>4</th>\n",
              "      <td>5</td>\n",
              "      <td>Bill Review Manager</td>\n",
              "      <td>US, FL, Fort Worth</td>\n",
              "      <td>Sales</td>\n",
              "      <td>SpotSource Solutions LLC is a Global Human Cap...</td>\n",
              "      <td>JOB TITLE: Itemization Review ManagerLOCATION:...</td>\n",
              "      <td>Full Benefits Offered</td>\n",
              "      <td>0</td>\n",
              "      <td>Full-time</td>\n",
              "      <td>Mid-Senior level</td>\n",
              "      <td>Bachelor's Degree</td>\n",
              "      <td>Hospital &amp; Health Care</td>\n",
              "      <td>Health Care Provider</td>\n",
              "    </tr>\n",
              "  </tbody>\n",
              "</table>\n",
              "</div>\n",
              "      <button class=\"colab-df-convert\" onclick=\"convertToInteractive('df-9c0c41da-0e7c-478e-8aef-8ad13a36304f')\"\n",
              "              title=\"Convert this dataframe to an interactive table.\"\n",
              "              style=\"display:none;\">\n",
              "        \n",
              "  <svg xmlns=\"http://www.w3.org/2000/svg\" height=\"24px\"viewBox=\"0 0 24 24\"\n",
              "       width=\"24px\">\n",
              "    <path d=\"M0 0h24v24H0V0z\" fill=\"none\"/>\n",
              "    <path d=\"M18.56 5.44l.94 2.06.94-2.06 2.06-.94-2.06-.94-.94-2.06-.94 2.06-2.06.94zm-11 1L8.5 8.5l.94-2.06 2.06-.94-2.06-.94L8.5 2.5l-.94 2.06-2.06.94zm10 10l.94 2.06.94-2.06 2.06-.94-2.06-.94-.94-2.06-.94 2.06-2.06.94z\"/><path d=\"M17.41 7.96l-1.37-1.37c-.4-.4-.92-.59-1.43-.59-.52 0-1.04.2-1.43.59L10.3 9.45l-7.72 7.72c-.78.78-.78 2.05 0 2.83L4 21.41c.39.39.9.59 1.41.59.51 0 1.02-.2 1.41-.59l7.78-7.78 2.81-2.81c.8-.78.8-2.07 0-2.86zM5.41 20L4 18.59l7.72-7.72 1.47 1.35L5.41 20z\"/>\n",
              "  </svg>\n",
              "      </button>\n",
              "      \n",
              "  <style>\n",
              "    .colab-df-container {\n",
              "      display:flex;\n",
              "      flex-wrap:wrap;\n",
              "      gap: 12px;\n",
              "    }\n",
              "\n",
              "    .colab-df-convert {\n",
              "      background-color: #E8F0FE;\n",
              "      border: none;\n",
              "      border-radius: 50%;\n",
              "      cursor: pointer;\n",
              "      display: none;\n",
              "      fill: #1967D2;\n",
              "      height: 32px;\n",
              "      padding: 0 0 0 0;\n",
              "      width: 32px;\n",
              "    }\n",
              "\n",
              "    .colab-df-convert:hover {\n",
              "      background-color: #E2EBFA;\n",
              "      box-shadow: 0px 1px 2px rgba(60, 64, 67, 0.3), 0px 1px 3px 1px rgba(60, 64, 67, 0.15);\n",
              "      fill: #174EA6;\n",
              "    }\n",
              "\n",
              "    [theme=dark] .colab-df-convert {\n",
              "      background-color: #3B4455;\n",
              "      fill: #D2E3FC;\n",
              "    }\n",
              "\n",
              "    [theme=dark] .colab-df-convert:hover {\n",
              "      background-color: #434B5C;\n",
              "      box-shadow: 0px 1px 3px 1px rgba(0, 0, 0, 0.15);\n",
              "      filter: drop-shadow(0px 1px 2px rgba(0, 0, 0, 0.3));\n",
              "      fill: #FFFFFF;\n",
              "    }\n",
              "  </style>\n",
              "\n",
              "      <script>\n",
              "        const buttonEl =\n",
              "          document.querySelector('#df-9c0c41da-0e7c-478e-8aef-8ad13a36304f button.colab-df-convert');\n",
              "        buttonEl.style.display =\n",
              "          google.colab.kernel.accessAllowed ? 'block' : 'none';\n",
              "\n",
              "        async function convertToInteractive(key) {\n",
              "          const element = document.querySelector('#df-9c0c41da-0e7c-478e-8aef-8ad13a36304f');\n",
              "          const dataTable =\n",
              "            await google.colab.kernel.invokeFunction('convertToInteractive',\n",
              "                                                     [key], {});\n",
              "          if (!dataTable) return;\n",
              "\n",
              "          const docLinkHtml = 'Like what you see? Visit the ' +\n",
              "            '<a target=\"_blank\" href=https://colab.research.google.com/notebooks/data_table.ipynb>data table notebook</a>'\n",
              "            + ' to learn more about interactive tables.';\n",
              "          element.innerHTML = '';\n",
              "          dataTable['output_type'] = 'display_data';\n",
              "          await google.colab.output.renderOutput(dataTable, element);\n",
              "          const docLink = document.createElement('div');\n",
              "          docLink.innerHTML = docLinkHtml;\n",
              "          element.appendChild(docLink);\n",
              "        }\n",
              "      </script>\n",
              "    </div>\n",
              "  </div>\n",
              "  "
            ],
            "text/plain": [
              "   job_id  ...                function\n",
              "0       1  ...               Marketing\n",
              "1       2  ...        Customer Service\n",
              "2       3  ...  Information Technology\n",
              "3       4  ...                   Sales\n",
              "4       5  ...    Health Care Provider\n",
              "\n",
              "[5 rows x 13 columns]"
            ]
          },
          "metadata": {},
          "execution_count": 16
        }
      ]
    },
    {
      "cell_type": "markdown",
      "source": [
        "CONVERTING CATEGORICAL DATA INTO NUMERICAL DATA"
      ],
      "metadata": {
        "id": "CQiwa-nZfFsP"
      }
    },
    {
      "cell_type": "code",
      "source": [
        "from sklearn.preprocessing import LabelEncoder\n",
        "Encoder_X = LabelEncoder() \n",
        "for col in X.columns:\n",
        "    X[col] = Encoder_X.fit_transform(X[col])\n",
        "Encoder_y=LabelEncoder()\n",
        "y = Encoder_y.fit_transform(y) "
      ],
      "metadata": {
        "id": "IzUzsS5DLiOr"
      },
      "execution_count": null,
      "outputs": []
    },
    {
      "cell_type": "code",
      "source": [
        "X.head()"
      ],
      "metadata": {
        "colab": {
          "base_uri": "https://localhost:8080/",
          "height": 270
        },
        "id": "xUTu5C3HMouJ",
        "outputId": "948c9303-6b9e-4b53-e904-3a5eb1ba232b"
      },
      "execution_count": null,
      "outputs": [
        {
          "output_type": "execute_result",
          "data": {
            "text/html": [
              "\n",
              "  <div id=\"df-2e98032c-26eb-499d-9c6b-ba6aab655efd\">\n",
              "    <div class=\"colab-df-container\">\n",
              "      <div>\n",
              "<style scoped>\n",
              "    .dataframe tbody tr th:only-of-type {\n",
              "        vertical-align: middle;\n",
              "    }\n",
              "\n",
              "    .dataframe tbody tr th {\n",
              "        vertical-align: top;\n",
              "    }\n",
              "\n",
              "    .dataframe thead th {\n",
              "        text-align: right;\n",
              "    }\n",
              "</style>\n",
              "<table border=\"1\" class=\"dataframe\">\n",
              "  <thead>\n",
              "    <tr style=\"text-align: right;\">\n",
              "      <th></th>\n",
              "      <th>job_id</th>\n",
              "      <th>title</th>\n",
              "      <th>location</th>\n",
              "      <th>department</th>\n",
              "      <th>company_profile</th>\n",
              "      <th>description</th>\n",
              "      <th>benefits</th>\n",
              "      <th>telecommuting</th>\n",
              "      <th>employment_type</th>\n",
              "      <th>required_experience</th>\n",
              "      <th>required_education</th>\n",
              "      <th>industry</th>\n",
              "      <th>function</th>\n",
              "    </tr>\n",
              "  </thead>\n",
              "  <tbody>\n",
              "    <tr>\n",
              "      <th>0</th>\n",
              "      <td>0</td>\n",
              "      <td>5814</td>\n",
              "      <td>2535</td>\n",
              "      <td>726</td>\n",
              "      <td>1526</td>\n",
              "      <td>4496</td>\n",
              "      <td>4080</td>\n",
              "      <td>0</td>\n",
              "      <td>2</td>\n",
              "      <td>4</td>\n",
              "      <td>1</td>\n",
              "      <td>58</td>\n",
              "      <td>22</td>\n",
              "    </tr>\n",
              "    <tr>\n",
              "      <th>1</th>\n",
              "      <td>1</td>\n",
              "      <td>2047</td>\n",
              "      <td>1073</td>\n",
              "      <td>1110</td>\n",
              "      <td>50</td>\n",
              "      <td>7246</td>\n",
              "      <td>5569</td>\n",
              "      <td>0</td>\n",
              "      <td>1</td>\n",
              "      <td>6</td>\n",
              "      <td>1</td>\n",
              "      <td>75</td>\n",
              "      <td>7</td>\n",
              "    </tr>\n",
              "    <tr>\n",
              "      <th>2</th>\n",
              "      <td>2</td>\n",
              "      <td>1636</td>\n",
              "      <td>1867</td>\n",
              "      <td>1007</td>\n",
              "      <td>1389</td>\n",
              "      <td>7461</td>\n",
              "      <td>4080</td>\n",
              "      <td>0</td>\n",
              "      <td>1</td>\n",
              "      <td>5</td>\n",
              "      <td>1</td>\n",
              "      <td>58</td>\n",
              "      <td>18</td>\n",
              "    </tr>\n",
              "    <tr>\n",
              "      <th>3</th>\n",
              "      <td>3</td>\n",
              "      <td>195</td>\n",
              "      <td>1703</td>\n",
              "      <td>1007</td>\n",
              "      <td>975</td>\n",
              "      <td>9581</td>\n",
              "      <td>3334</td>\n",
              "      <td>0</td>\n",
              "      <td>1</td>\n",
              "      <td>5</td>\n",
              "      <td>1</td>\n",
              "      <td>22</td>\n",
              "      <td>31</td>\n",
              "    </tr>\n",
              "    <tr>\n",
              "      <th>4</th>\n",
              "      <td>4</td>\n",
              "      <td>861</td>\n",
              "      <td>1741</td>\n",
              "      <td>1007</td>\n",
              "      <td>1210</td>\n",
              "      <td>5714</td>\n",
              "      <td>2253</td>\n",
              "      <td>0</td>\n",
              "      <td>1</td>\n",
              "      <td>5</td>\n",
              "      <td>1</td>\n",
              "      <td>51</td>\n",
              "      <td>16</td>\n",
              "    </tr>\n",
              "  </tbody>\n",
              "</table>\n",
              "</div>\n",
              "      <button class=\"colab-df-convert\" onclick=\"convertToInteractive('df-2e98032c-26eb-499d-9c6b-ba6aab655efd')\"\n",
              "              title=\"Convert this dataframe to an interactive table.\"\n",
              "              style=\"display:none;\">\n",
              "        \n",
              "  <svg xmlns=\"http://www.w3.org/2000/svg\" height=\"24px\"viewBox=\"0 0 24 24\"\n",
              "       width=\"24px\">\n",
              "    <path d=\"M0 0h24v24H0V0z\" fill=\"none\"/>\n",
              "    <path d=\"M18.56 5.44l.94 2.06.94-2.06 2.06-.94-2.06-.94-.94-2.06-.94 2.06-2.06.94zm-11 1L8.5 8.5l.94-2.06 2.06-.94-2.06-.94L8.5 2.5l-.94 2.06-2.06.94zm10 10l.94 2.06.94-2.06 2.06-.94-2.06-.94-.94-2.06-.94 2.06-2.06.94z\"/><path d=\"M17.41 7.96l-1.37-1.37c-.4-.4-.92-.59-1.43-.59-.52 0-1.04.2-1.43.59L10.3 9.45l-7.72 7.72c-.78.78-.78 2.05 0 2.83L4 21.41c.39.39.9.59 1.41.59.51 0 1.02-.2 1.41-.59l7.78-7.78 2.81-2.81c.8-.78.8-2.07 0-2.86zM5.41 20L4 18.59l7.72-7.72 1.47 1.35L5.41 20z\"/>\n",
              "  </svg>\n",
              "      </button>\n",
              "      \n",
              "  <style>\n",
              "    .colab-df-container {\n",
              "      display:flex;\n",
              "      flex-wrap:wrap;\n",
              "      gap: 12px;\n",
              "    }\n",
              "\n",
              "    .colab-df-convert {\n",
              "      background-color: #E8F0FE;\n",
              "      border: none;\n",
              "      border-radius: 50%;\n",
              "      cursor: pointer;\n",
              "      display: none;\n",
              "      fill: #1967D2;\n",
              "      height: 32px;\n",
              "      padding: 0 0 0 0;\n",
              "      width: 32px;\n",
              "    }\n",
              "\n",
              "    .colab-df-convert:hover {\n",
              "      background-color: #E2EBFA;\n",
              "      box-shadow: 0px 1px 2px rgba(60, 64, 67, 0.3), 0px 1px 3px 1px rgba(60, 64, 67, 0.15);\n",
              "      fill: #174EA6;\n",
              "    }\n",
              "\n",
              "    [theme=dark] .colab-df-convert {\n",
              "      background-color: #3B4455;\n",
              "      fill: #D2E3FC;\n",
              "    }\n",
              "\n",
              "    [theme=dark] .colab-df-convert:hover {\n",
              "      background-color: #434B5C;\n",
              "      box-shadow: 0px 1px 3px 1px rgba(0, 0, 0, 0.15);\n",
              "      filter: drop-shadow(0px 1px 2px rgba(0, 0, 0, 0.3));\n",
              "      fill: #FFFFFF;\n",
              "    }\n",
              "  </style>\n",
              "\n",
              "      <script>\n",
              "        const buttonEl =\n",
              "          document.querySelector('#df-2e98032c-26eb-499d-9c6b-ba6aab655efd button.colab-df-convert');\n",
              "        buttonEl.style.display =\n",
              "          google.colab.kernel.accessAllowed ? 'block' : 'none';\n",
              "\n",
              "        async function convertToInteractive(key) {\n",
              "          const element = document.querySelector('#df-2e98032c-26eb-499d-9c6b-ba6aab655efd');\n",
              "          const dataTable =\n",
              "            await google.colab.kernel.invokeFunction('convertToInteractive',\n",
              "                                                     [key], {});\n",
              "          if (!dataTable) return;\n",
              "\n",
              "          const docLinkHtml = 'Like what you see? Visit the ' +\n",
              "            '<a target=\"_blank\" href=https://colab.research.google.com/notebooks/data_table.ipynb>data table notebook</a>'\n",
              "            + ' to learn more about interactive tables.';\n",
              "          element.innerHTML = '';\n",
              "          dataTable['output_type'] = 'display_data';\n",
              "          await google.colab.output.renderOutput(dataTable, element);\n",
              "          const docLink = document.createElement('div');\n",
              "          docLink.innerHTML = docLinkHtml;\n",
              "          element.appendChild(docLink);\n",
              "        }\n",
              "      </script>\n",
              "    </div>\n",
              "  </div>\n",
              "  "
            ],
            "text/plain": [
              "   job_id  title  location  ...  required_education  industry  function\n",
              "0       0   5814      2535  ...                   1        58        22\n",
              "1       1   2047      1073  ...                   1        75         7\n",
              "2       2   1636      1867  ...                   1        58        18\n",
              "3       3    195      1703  ...                   1        22        31\n",
              "4       4    861      1741  ...                   1        51        16\n",
              "\n",
              "[5 rows x 13 columns]"
            ]
          },
          "metadata": {},
          "execution_count": 18
        }
      ]
    },
    {
      "cell_type": "code",
      "source": [
        "X.to_csv('encoded_X_values.csv')\n",
        "y"
      ],
      "metadata": {
        "colab": {
          "base_uri": "https://localhost:8080/"
        },
        "id": "7fR2aeECNNPF",
        "outputId": "f53ae69e-269c-4bf5-bf61-c7cfe80d3c02"
      },
      "execution_count": null,
      "outputs": [
        {
          "output_type": "execute_result",
          "data": {
            "text/plain": [
              "array([0, 0, 0, ..., 0, 0, 0])"
            ]
          },
          "metadata": {},
          "execution_count": 19
        }
      ]
    },
    {
      "cell_type": "markdown",
      "source": [
        "SPLITTING THE DATA INTO TRAINING AND TESTING SETS"
      ],
      "metadata": {
        "id": "Z45RD-Xlfg0s"
      }
    },
    {
      "cell_type": "code",
      "source": [
        "from sklearn.model_selection import train_test_split\n",
        "X_train, X_test, y_train, y_test = train_test_split(X, y, test_size=0.2, random_state=42)"
      ],
      "metadata": {
        "id": "ERaaQwRkPRVc"
      },
      "execution_count": null,
      "outputs": []
    },
    {
      "cell_type": "markdown",
      "source": [
        "PREPROCESSING THE DATA"
      ],
      "metadata": {
        "id": "wtZF7Uy6fuD6"
      }
    },
    {
      "cell_type": "code",
      "source": [
        "from sklearn.preprocessing import StandardScaler\n",
        "sc = StandardScaler()\n",
        "\n",
        "X_train = sc.fit_transform(X_train)\n",
        "X_test = sc.transform(X_test)"
      ],
      "metadata": {
        "id": "VJDaw3BfPWo4"
      },
      "execution_count": null,
      "outputs": []
    },
    {
      "cell_type": "code",
      "source": [
        "X_train"
      ],
      "metadata": {
        "colab": {
          "base_uri": "https://localhost:8080/"
        },
        "id": "z2-cjWthPrev",
        "outputId": "5d3bc955-33d3-4a5d-d2b5-e2697bc1b4e4"
      },
      "execution_count": null,
      "outputs": [
        {
          "output_type": "execute_result",
          "data": {
            "text/plain": [
              "array([[-1.32401954,  0.40403908, -1.44174992, ..., -0.48185237,\n",
              "         0.13427892,  0.14134777],\n",
              "       [-0.26762651,  0.69990452,  1.09126742, ..., -0.48185237,\n",
              "         0.13427892,  0.14134777],\n",
              "       [-1.58487644, -1.58280137,  1.06207484, ..., -0.48185237,\n",
              "         0.2504823 , -1.58004199],\n",
              "       ...,\n",
              "       [-0.68968058, -0.18674551, -0.11461051, ..., -0.48185237,\n",
              "        -0.1368623 ,  1.86273753],\n",
              "       [-1.56629909,  0.82449603, -1.613537  , ..., -0.48185237,\n",
              "         0.13427892,  0.14134777],\n",
              "       [ 1.32383279, -1.38913253, -1.3912243 , ..., -0.48185237,\n",
              "         0.13427892,  0.14134777]])"
            ]
          },
          "metadata": {},
          "execution_count": 22
        }
      ]
    },
    {
      "cell_type": "markdown",
      "source": [
        "USING RANDOM CLASSIFIER"
      ],
      "metadata": {
        "id": "FlF9a_JbgAiI"
      }
    },
    {
      "cell_type": "code",
      "source": [
        "from sklearn.ensemble import RandomForestClassifier\n",
        "my_model = RandomForestClassifier(n_estimators = 50, criterion = 'entropy', random_state = 42)\n",
        "result=my_model.fit(X_train, y_train)"
      ],
      "metadata": {
        "id": "n-mzBENARP0o"
      },
      "execution_count": null,
      "outputs": []
    },
    {
      "cell_type": "code",
      "source": [
        "predictions = result.predict(X_test)\n",
        "X_test"
      ],
      "metadata": {
        "colab": {
          "base_uri": "https://localhost:8080/"
        },
        "id": "S_KorzU5SfOE",
        "outputId": "d8bddd07-9f6d-4711-a65e-37cb87228f20"
      },
      "execution_count": null,
      "outputs": [
        {
          "output_type": "execute_result",
          "data": {
            "text/plain": [
              "array([[-0.82165715,  0.70274331, -1.31262891, ...,  2.84259777,\n",
              "        -1.95738192,  0.14134777],\n",
              "       [ 0.41122067, -0.67312557,  1.20691493, ...,  0.76481643,\n",
              "        -0.60167582,  1.86273753],\n",
              "       [ 0.65853159, -1.51183152,  1.12158279, ..., -0.48185237,\n",
              "         0.13427892,  0.14134777],\n",
              "       ...,\n",
              "       [-0.78392191, -1.23457596,  0.67134345, ...,  0.76481643,\n",
              "        -0.1368623 , -0.12348143],\n",
              "       [-0.4317264 ,  0.75131823, -0.12696122, ..., -0.48185237,\n",
              "         0.13427892,  0.14134777],\n",
              "       [ 1.53747227, -1.64273147,  0.8857966 , ..., -0.48185237,\n",
              "        -1.1052238 ,  0.14134777]])"
            ]
          },
          "metadata": {},
          "execution_count": 24
        }
      ]
    },
    {
      "cell_type": "code",
      "source": [
        "from sklearn import metrics\n",
        "print(\"Accuracy:\",metrics.accuracy_score(y_test, predictions))"
      ],
      "metadata": {
        "colab": {
          "base_uri": "https://localhost:8080/"
        },
        "id": "n3v3ouI2Twzx",
        "outputId": "26ab67ed-5d5c-4b85-bfb8-4ba7332dc059"
      },
      "execution_count": null,
      "outputs": [
        {
          "output_type": "stream",
          "name": "stdout",
          "text": [
            "Accuracy: 0.9868568232662193\n"
          ]
        }
      ]
    },
    {
      "cell_type": "markdown",
      "source": [
        "PLOTTING CONFUSION MATRIX"
      ],
      "metadata": {
        "id": "dlQDhCz2gSKe"
      }
    },
    {
      "cell_type": "code",
      "source": [
        "from sklearn.metrics import confusion_matrix\n",
        "conf_matrix =confusion_matrix(predictions,y_test)\n",
        "confusion_df = pd.DataFrame(conf_matrix, index=['Actual 0','Actual 1'], columns=['Predicted 0','Predicted 1'])\n",
        "sns.heatmap(confusion_df, cmap='coolwarm', annot=True)"
      ],
      "metadata": {
        "colab": {
          "base_uri": "https://localhost:8080/",
          "height": 282
        },
        "id": "t-E1XUkeVNBG",
        "outputId": "2c6b7630-282e-4b29-b2c6-dc96e00e9ac0"
      },
      "execution_count": null,
      "outputs": [
        {
          "output_type": "execute_result",
          "data": {
            "text/plain": [
              "<matplotlib.axes._subplots.AxesSubplot at 0x7f09612e3e50>"
            ]
          },
          "metadata": {},
          "execution_count": 26
        },
        {
          "output_type": "display_data",
          "data": {
            "image/png": "[encoded data removed]",
            "text/plain": [
              "<Figure size 432x288 with 2 Axes>"
            ]
          },
          "metadata": {
            "needs_background": "light"
          }
        }
      ]
    },
    {
      "cell_type": "code",
      "source": [
        "from sklearn import metrics\n",
        "print('\\n**Classification Report:\\n',metrics.classification_report(y_test,predictions))"
      ],
      "metadata": {
        "colab": {
          "base_uri": "https://localhost:8080/"
        },
        "id": "XLYBrzMvWmm2",
        "outputId": "f48b476d-75a3-4437-c6aa-f7401b1e5db0"
      },
      "execution_count": null,
      "outputs": [
        {
          "output_type": "stream",
          "name": "stdout",
          "text": [
            "\n",
            "**Classification Report:\n",
            "               precision    recall  f1-score   support\n",
            "\n",
            "           0       0.99      1.00      0.99      3395\n",
            "           1       0.98      0.76      0.85       181\n",
            "\n",
            "    accuracy                           0.99      3576\n",
            "   macro avg       0.98      0.88      0.92      3576\n",
            "weighted avg       0.99      0.99      0.99      3576\n",
            "\n"
          ]
        }
      ]
    },
    {
      "cell_type": "markdown",
      "source": [],
      "metadata": {
        "id": "PYvdIqh-oo53"
      }
    },
    {
      "cell_type": "markdown",
      "source": [
        "USING DECISION TREE ALGORITHM"
      ],
      "metadata": {
        "id": "RNoU9lPzgp--"
      }
    },
    {
      "cell_type": "code",
      "source": [
        "from sklearn.tree import DecisionTreeClassifier\n",
        "my_model = DecisionTreeClassifier(random_state=0)\n",
        "result = my_model.fit(X_train,y_train)"
      ],
      "metadata": {
        "id": "PuGv6cYJVaYS"
      },
      "execution_count": null,
      "outputs": []
    },
    {
      "cell_type": "code",
      "source": [
        "from sklearn.metrics import mean_absolute_error,accuracy_score\n",
        "mean_absolute_error(y_test, predictions)"
      ],
      "metadata": {
        "colab": {
          "base_uri": "https://localhost:8080/"
        },
        "id": "N8nfAIMoV44i",
        "outputId": "cfcebc27-69e1-481b-eb9f-cfe02af76b2e"
      },
      "execution_count": null,
      "outputs": [
        {
          "output_type": "execute_result",
          "data": {
            "text/plain": [
              "0.013143176733780761"
            ]
          },
          "metadata": {},
          "execution_count": 29
        }
      ]
    },
    {
      "cell_type": "code",
      "source": [
        "accuracy_score(y_test,predictions)"
      ],
      "metadata": {
        "colab": {
          "base_uri": "https://localhost:8080/"
        },
        "id": "7dGzURFYZInT",
        "outputId": "641b6c99-0cb7-48a5-f44a-49d873d1db92"
      },
      "execution_count": null,
      "outputs": [
        {
          "output_type": "execute_result",
          "data": {
            "text/plain": [
              "0.9868568232662193"
            ]
          },
          "metadata": {},
          "execution_count": 30
        }
      ]
    },
    {
      "cell_type": "markdown",
      "source": [
        "USING KNN ALGORITHM"
      ],
      "metadata": {
        "id": "yl77KULjgz6e"
      }
    },
    {
      "cell_type": "code",
      "source": [
        "from sklearn.neighbors import KNeighborsClassifier\n",
        "my_model = KNeighborsClassifier(n_neighbors=3)\n",
        "result = my_model.fit(X_train,y_train)"
      ],
      "metadata": {
        "id": "AUYw4MlsZv7L"
      },
      "execution_count": null,
      "outputs": []
    },
    {
      "cell_type": "code",
      "source": [
        "\n",
        "predictions = result.predict(X_test)\n",
        "predictions"
      ],
      "metadata": {
        "colab": {
          "base_uri": "https://localhost:8080/"
        },
        "id": "BEwAPjIrk8VM",
        "outputId": "08de5dc3-75ba-4172-82cb-f88da9c04595"
      },
      "execution_count": null,
      "outputs": [
        {
          "output_type": "execute_result",
          "data": {
            "text/plain": [
              "array([0, 0, 0, ..., 0, 0, 0])"
            ]
          },
          "metadata": {},
          "execution_count": 32
        }
      ]
    },
    {
      "cell_type": "code",
      "source": [
        "print('With KNN (K=3) accuracy is: ', result.score(X_test,y_test))"
      ],
      "metadata": {
        "colab": {
          "base_uri": "https://localhost:8080/"
        },
        "id": "xq-6CETylz3f",
        "outputId": "831188a1-39a6-4558-a606-14096a8d1853"
      },
      "execution_count": null,
      "outputs": [
        {
          "output_type": "stream",
          "name": "stdout",
          "text": [
            "With KNN (K=3) accuracy is:  0.9628076062639821\n"
          ]
        }
      ]
    },
    {
      "cell_type": "code",
      "source": [
        "pred_new=list(result.predict([[3,1636,1867,1007,1389,7461,4080,0,1,5,1,58,18]]))\n",
        "pred_new\n"
      ],
      "metadata": {
        "colab": {
          "base_uri": "https://localhost:8080/"
        },
        "id": "x4PAJk-wohph",
        "outputId": "9f25c0c9-88cf-4232-d882-c008c910b104"
      },
      "execution_count": null,
      "outputs": [
        {
          "output_type": "execute_result",
          "data": {
            "text/plain": [
              "[0]"
            ]
          },
          "metadata": {},
          "execution_count": 34
        }
      ]
    },
    {
      "cell_type": "markdown",
      "source": [
        "RANDOM CLASSIFIER AND DECISION TREE HAS HIGH ACCURACY."
      ],
      "metadata": {
        "id": "KaGSBMxSt1a1"
      }
    }
  ]
}